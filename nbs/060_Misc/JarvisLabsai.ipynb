{
 "cells": [
  {
   "cell_type": "markdown",
   "id": "0011bd25",
   "metadata": {},
   "source": [
    "# Jarvislabs.ai"
   ]
  },
  {
   "cell_type": "markdown",
   "id": "a3bcaf92",
   "metadata": {},
   "source": [
    "How to set up an environment [link](https://jarvislabs.ai/docs/env/). Make sure to add a prefix otherwise environment will be deleted after pausing."
   ]
  },
  {
   "cell_type": "markdown",
   "id": "d4b6cbf0",
   "metadata": {},
   "source": [
    "```zsh\n",
    "conda create --prefix /home/some_env_name python=3.10 ipykernel mamba -y\n",
    "conda activate /home/some_env_name\n",
    "```"
   ]
  },
  {
   "cell_type": "markdown",
   "id": "c2c69241",
   "metadata": {},
   "source": [
    "Set up a jupyter kernel:"
   ]
  },
  {
   "cell_type": "markdown",
   "id": "aee11f18",
   "metadata": {},
   "source": [
    "```zsh\n",
    "python -m ipykernel install --user --name=python3.9\n",
    "```"
   ]
  },
  {
   "cell_type": "markdown",
   "id": "02f1b449",
   "metadata": {},
   "source": [
    "# Copy files"
   ]
  },
  {
   "cell_type": "markdown",
   "id": "311d544f",
   "metadata": {},
   "source": [
    "## Drag and drop"
   ]
  },
  {
   "cell_type": "markdown",
   "id": "461cd6a2",
   "metadata": {},
   "source": [
    "This is the simplest method just drag and drop one file. Currently folders and not supported."
   ]
  },
  {
   "cell_type": "markdown",
   "id": "ef58d52c",
   "metadata": {},
   "source": [
    "# Set up SSH"
   ]
  },
  {
   "cell_type": "markdown",
   "id": "283777ee",
   "metadata": {},
   "source": [
    "First, follow [this](https://jarvislabs.ai/docs/accounts-user/setup-ssh/) to set up the API ssh key. "
   ]
  },
  {
   "cell_type": "markdown",
   "id": "dd435246",
   "metadata": {},
   "source": [
    "To get IP address, first install `iproute2`:\n",
    "\n",
    "```zsh\n",
    "apt update\n",
    "apt install iproute2\n",
    "ip a\n",
    "```"
   ]
  },
  {
   "cell_type": "markdown",
   "id": "4ec47c28",
   "metadata": {},
   "source": [
    "\n",
    "# Data management"
   ]
  },
  {
   "cell_type": "markdown",
   "id": "e3c7c4e6",
   "metadata": {},
   "source": [
    "See https://jarvislabs.ai/docs/data-management/"
   ]
  },
  {
   "cell_type": "markdown",
   "id": "6757f659",
   "metadata": {},
   "source": [
    "## Upload to Google Drive"
   ]
  },
  {
   "cell_type": "markdown",
   "id": "74751b6c",
   "metadata": {},
   "source": [
    "wget https://github.com/prasmussen/gdrive/releases/download/2.1.1/gdrive_2.1.1_linux_386.tar.gz"
   ]
  },
  {
   "cell_type": "markdown",
   "source": [
    "# Start script"
   ],
   "metadata": {
    "collapsed": false
   }
  },
  {
   "cell_type": "markdown",
   "source": [
    "```zsh\n",
    "\n",
    "conda init zsh\n",
    "\n",
    "conda update -n base -c conda-forge conda\n",
    "\n",
    "apt-get update\n",
    "apt-get install ffmpeg libsm6 libxext6  -y\n",
    "\n",
    "\n",
    "\n",
    "repo_name=solar\n",
    "yes | conda create -n $repo_name python=3.10\n",
    "conda activate $repo_name\n",
    "\n",
    "\n",
    "pip install -U torch numpy pandas matplotlib torchviz scikit-learn tensorboard torchvision tqdm torch-lr-finder ipyplot ipywidgets opencv-python torchmetrics\n",
    "yes | conda install -c conda-forge jupyter_contrib_nbextensions graphviz python-graphviz\n",
    "\n",
    "\n",
    "ipython kernel install --name $repo_name --user\n",
    "\n",
    "\n",
    "git clone https://github.com/nesaboz/solar.git\n",
    "ipython kernel install --name $repo_name --user\n",
    "\n",
    "\n",
    "```"
   ],
   "metadata": {
    "collapsed": false
   }
  }
 ],
 "metadata": {
  "kernelspec": {
   "display_name": "Python 3 (ipykernel)",
   "language": "python",
   "name": "python3"
  }
 },
 "nbformat": 4,
 "nbformat_minor": 5
}
