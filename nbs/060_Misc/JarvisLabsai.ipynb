{
 "cells": [
  {
   "cell_type": "markdown",
   "id": "0011bd25",
   "metadata": {},
   "source": [
    "# Jarvislabs.ai"
   ]
  },
  {
   "cell_type": "markdown",
   "id": "a3bcaf92",
   "metadata": {},
   "source": [
    "How to set up an environment [link](https://jarvislabs.ai/docs/env/). Make sure to add a prefix otherwise environment will be deleted after pausing."
   ]
  },
  {
   "cell_type": "markdown",
   "id": "d4b6cbf0",
   "metadata": {},
   "source": [
    "```zsh\n",
    "conda create --prefix /home/some_env_name python=3.10 ipykernel mamba -y\n",
    "conda activate /home/some_env_name\n",
    "```"
   ]
  },
  {
   "cell_type": "markdown",
   "id": "c2c69241",
   "metadata": {},
   "source": [
    "Set up a jupyter kernel:"
   ]
  },
  {
   "cell_type": "markdown",
   "id": "aee11f18",
   "metadata": {},
   "source": [
    "```zsh\n",
    "python -m ipykernel install --user --name=some_env_name\n",
    "```"
   ]
  },
  {
   "cell_type": "markdown",
   "id": "4ec47c28",
   "metadata": {},
   "source": [
    "\n",
    "# Data management"
   ]
  },
  {
   "cell_type": "markdown",
   "id": "e3c7c4e6",
   "metadata": {},
   "source": [
    "See https://jarvislabs.ai/docs/data-management/"
   ]
  },
  {
   "cell_type": "markdown",
   "source": [
    "This is the simplest method just drag and drop one file. Currently folders and not supported."
   ],
   "metadata": {
    "collapsed": false
   }
  },
  {
   "cell_type": "markdown",
   "source": [
    "Using google drive and curlwget: [CurlWget](https://www.youtube.com/watch?v=22jY0S8r8m4&t=79s)."
   ],
   "metadata": {
    "collapsed": false
   }
  },
  {
   "cell_type": "markdown",
   "source": [
    "# Set up SSH"
   ],
   "metadata": {
    "collapsed": false
   }
  },
  {
   "cell_type": "markdown",
   "source": [
    "First, follow [this](https://jarvislabs.ai/docs/accounts-user/setup-ssh/) to set up the API ssh key.\n"
   ],
   "metadata": {
    "collapsed": false
   }
  }
 ],
 "metadata": {
  "kernelspec": {
   "display_name": "Python 3 (ipykernel)",
   "language": "python",
   "name": "python3"
  }
 },
 "nbformat": 4,
 "nbformat_minor": 5
}
