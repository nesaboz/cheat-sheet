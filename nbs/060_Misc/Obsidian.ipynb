{
 "cells": [
  {
   "cell_type": "markdown",
   "metadata": {},
   "source": [
    "# Obsidian"
   ]
  },
  {
   "cell_type": "markdown",
   "metadata": {},
   "source": [
    "One must Install, then Enable, plug-in, for example Advanced Tables.\n",
    "To create a table, type `||`\n"
   ]
  }
 ],
 "metadata": {
  "kernelspec": {
   "display_name": "Python 3 (ipykernel)",
   "language": "python",
   "name": "python3"
  }
 },
 "nbformat": 4,
 "nbformat_minor": 4
}
