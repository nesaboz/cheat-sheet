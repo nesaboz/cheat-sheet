{
 "cells": [
  {
   "cell_type": "markdown",
   "source": [
    "# MacOS"
   ],
   "metadata": {
    "collapsed": false
   }
  },
  {
   "cell_type": "markdown",
   "source": [
    "To see hidden files on Mac in finder: `Command + Shift + .\n",
    "\n",
    "Home/End: Fn + Left/Right Arrow\n",
    "Beggining/End of the file:  Fn + Cmd + Left/Right"
   ],
   "metadata": {
    "collapsed": false
   }
  }
 ],
 "metadata": {
  "kernelspec": {
   "display_name": "Python 3",
   "language": "python",
   "name": "python3"
  },
  "language_info": {
   "codemirror_mode": {
    "name": "ipython",
    "version": 2
   },
   "file_extension": ".py",
   "mimetype": "text/x-python",
   "name": "python",
   "nbconvert_exporter": "python",
   "pygments_lexer": "ipython2",
   "version": "2.7.6"
  }
 },
 "nbformat": 4,
 "nbformat_minor": 0
}
