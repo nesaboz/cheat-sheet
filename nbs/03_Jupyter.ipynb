{
 "cells": [
  {
   "cell_type": "markdown",
   "metadata": {},
   "source": [
    "## Jupyter"
   ]
  },
  {
   "cell_type": "markdown",
   "metadata": {},
   "source": [
    "# Images"
   ]
  },
  {
   "cell_type": "markdown",
   "metadata": {},
   "source": [
    "\n",
    "To show images in markdown cells:\n",
    "```jupyter\n",
    "![][path to the image]\n",
    "```\n",
    "for example:\n",
    "```jupyter\n",
    "![](assets/example.png)\n",
    "```\n",
    "will produce:\n",
    "![](example.png)\n",
    "\n",
    "One can also use HTML to show images (`src`) with lot's of flexibility: \n",
    "- to change the width add `width` (as string)\n",
    "- for reference add `id`\n",
    "```jupyter\n",
    "<img width=\"500\" caption=\"Session_rate\" src=\"images/session_rate.jpg\" id=\"figure_id\"/>\n",
    "```\n",
    "\n",
    "then refer to the figure as: \n",
    "```text\n",
    "[name to show](#figure_id)\n",
    "```\n",
    " \n",
    "also can refer to URL images: (for example in Google Colab we have to replace the reference by it's github link):\n",
    "```\n",
    "<img src=\"https://raw.githubusercontent.com/nesaboz/pytorched/8c41b15364234c31af4f6222b2251954131b4a94/nbs/images/transfer_learning_layer_replacement.jpg\"/>\n",
    "```\n",
    "\n",
    "<img src=\"https://raw.githubusercontent.com/nesaboz/pytorched/8c41b15364234c31af4f6222b2251954131b4a94/nbs/images/transfer_learning_layer_replacement.jpg\"/>\n",
    "\n",
    "See this [great markdown guide](https://medium.com/analytics-vidhya/the-ultimate-markdown-guide-for-jupyter-notebook-d5e5abf728fd) for more.\n",
    "\n",
    "\n"
   ]
  },
  {
   "cell_type": "markdown",
   "metadata": {},
   "source": [
    "# Kernels"
   ]
  },
  {
   "cell_type": "markdown",
   "metadata": {},
   "source": [
    "\n",
    "```\n",
    "# list kernels\n",
    "jupyter kernelspec list\n",
    "\n",
    "# remove kernel\n",
    "jupyter kernelspec remove <kernel-name>  \n",
    "\n",
    "# install new kernel\n",
    "ipython kernel install --name <local-venv> --user\n",
    "```\n",
    "\n",
    "To manipulate jupyter kernels (Note: I did experience an issue with `sys.path` was different in python env and jupyter kernel. The solution that worked is [here](https://stackoverflow.com/questions/34389029/cannot-import-modules-in-jupyter-notebook-wrong-sys-path), in short, one has to compare the `sys.executable` for both the environment AND jupyter kernel (this one is listed using `jupyter kernelspec list` and looking into relevant `kernel.json` file)\n",
    "a must-read that I still need to go over is here [here](https://stackoverflow.com/questions/897792/where-is-pythons-sys-path-initialized-from).\n"
   ]
  },
  {
   "cell_type": "markdown",
   "metadata": {},
   "source": [
    "# Extensions"
   ]
  },
  {
   "cell_type": "markdown",
   "metadata": {},
   "source": [
    "\n",
    "```zsh\n",
    "conda install -c conda-forge jupyter_contrib_nbextensions\n",
    "```\n",
    "\n",
    "After installation and restart, you will see `nbextensions` tab, two most notable extensions are `collapsable headings` and `table of context 2 (toc2)`.\n"
   ]
  },
  {
   "cell_type": "markdown",
   "metadata": {},
   "source": [
    "# Navigation"
   ]
  },
  {
   "cell_type": "markdown",
   "metadata": {},
   "source": [
    "\n",
    "## Help\n",
    "To see parameters: `SHIFT + TAB`\n",
    "For help use `?` before or after the command.\n",
    "For autocompletion: `TAB + TAB`\n",
    "Merge cells, select cells then: `Shift + M` ``\n",
    "\n",
    "\n",
    "For raw text use:\n",
    "```text\n",
    "```text\n",
    "```\n",
    "and close with\n",
    "```text\n",
    "<```> but without the <> (that's the only one text that can't be displayed I guess!)\n",
    "```\n",
    "\n",
    "\n",
    "To add some empy space in markdown one can use:\n",
    "~~~\n",
    "&nbsp;\n",
    "~~~\n",
    "\n",
    "\n",
    "## Magic commands\n",
    "To autoreload edited python files (doesn't include class signatures changes, these you have to re-import): \n",
    "```jupyter\n",
    "%load_ext autoreload\n",
    "%autoreload 2\n",
    "```\n",
    "\n"
   ]
  }
 ],
 "metadata": {
  "kernelspec": {
   "display_name": "Python 3 (ipykernel)",
   "language": "python",
   "name": "python3"
  }
 },
 "nbformat": 4,
 "nbformat_minor": 4
}