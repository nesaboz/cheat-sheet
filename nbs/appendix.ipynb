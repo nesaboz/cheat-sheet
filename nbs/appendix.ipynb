{
 "cells": [
  {
   "cell_type": "markdown",
   "id": "18944b9e",
   "metadata": {},
   "source": [
    "# Appendix"
   ]
  },
  {
   "cell_type": "markdown",
   "id": "1eb3f10f",
   "metadata": {},
   "source": [
    "## torch cat vs stack"
   ]
  },
  {
   "cell_type": "code",
   "execution_count": null,
   "id": "dc493ab5",
   "metadata": {},
   "outputs": [],
   "source": [
    "from torch.nn.functional import conv2d\n",
    "import torch"
   ]
  },
  {
   "cell_type": "code",
   "execution_count": 157,
   "id": "b5ffc07a",
   "metadata": {},
   "outputs": [
    {
     "name": "stdout",
     "output_type": "stream",
     "text": [
      "tensor([1., 2.])\n"
     ]
    }
   ],
   "source": [
    "a = torch.Tensor([1])\n",
    "b = torch.Tensor([2])\n",
    "c = torch.cat([a,b], dim=0)\n",
    "print(c)"
   ]
  },
  {
   "cell_type": "code",
   "execution_count": null,
   "id": "e55afa44",
   "metadata": {},
   "outputs": [],
   "source": [
    "a = torch.Tensor([1])\n",
    "b = torch.Tensor([2])\n",
    "c = torch.cat([a,b], dim=0)\n",
    "print(c)"
   ]
  },
  {
   "cell_type": "code",
   "execution_count": 158,
   "id": "ae29f873",
   "metadata": {},
   "outputs": [
    {
     "name": "stdout",
     "output_type": "stream",
     "text": [
      "tensor([[1.],\n",
      "        [2.]])\n",
      "tensor([[1., 2.]])\n"
     ]
    }
   ],
   "source": [
    "a = torch.Tensor([1])\n",
    "b = torch.Tensor([2])\n",
    "c = torch.stack([a,b], dim=0)\n",
    "d = torch.stack([a,b], dim=1)\n",
    "print(c)\n",
    "print(d)"
   ]
  },
  {
   "cell_type": "markdown",
   "id": "a04fbe19",
   "metadata": {},
   "source": [
    "## Partial functions"
   ]
  },
  {
   "cell_type": "code",
   "execution_count": 166,
   "id": "9c43f0de",
   "metadata": {},
   "outputs": [],
   "source": [
    "from functools import partial\n",
    "import matplotlib.pyplot as plt"
   ]
  },
  {
   "cell_type": "code",
   "execution_count": 167,
   "id": "eeec5cd7",
   "metadata": {},
   "outputs": [],
   "source": [
    "def general_quadratic_function(x: np.array, params: tuple):\n",
    "    a,b,c = params\n",
    "    return a*(x**2) + (b*x) + c"
   ]
  },
  {
   "cell_type": "code",
   "execution_count": 168,
   "id": "6e4bd425",
   "metadata": {},
   "outputs": [],
   "source": [
    "our_quadratic_function = partial(general_quadratic_function, params=(1,2,3))"
   ]
  },
  {
   "cell_type": "code",
   "execution_count": 169,
   "id": "3218da89",
   "metadata": {},
   "outputs": [
    {
     "data": {
      "text/plain": [
       "array([  3,   6,  11,  18,  27,  38,  51,  66,  83, 102])"
      ]
     },
     "execution_count": 169,
     "metadata": {},
     "output_type": "execute_result"
    }
   ],
   "source": [
    "our_quadratic_function(np.arange(10))"
   ]
  },
  {
   "cell_type": "markdown",
   "id": "742d647f",
   "metadata": {},
   "source": [
    "## Plot functions"
   ]
  },
  {
   "cell_type": "code",
   "execution_count": 270,
   "id": "d0096aa9",
   "metadata": {},
   "outputs": [
    {
     "data": {
      "text/plain": [
       "array([0. , 0.1, 0.2, 0.3, 0.4, 0.5, 0.6, 0.7, 0.8, 0.9, 1. , 1.1, 1.2,\n",
       "       1.3, 1.4, 1.5, 1.6, 1.7, 1.8, 1.9, 2. , 2.1, 2.2, 2.3, 2.4, 2.5,\n",
       "       2.6, 2.7, 2.8, 2.9, 3. , 3.1, 3.2, 3.3, 3.4, 3.5, 3.6, 3.7, 3.8,\n",
       "       3.9, 4. , 4.1, 4.2, 4.3, 4.4, 4.5, 4.6, 4.7, 4.8, 4.9, 5. , 5.1,\n",
       "       5.2, 5.3, 5.4, 5.5, 5.6, 5.7, 5.8, 5.9, 6. , 6.1, 6.2, 6.3, 6.4,\n",
       "       6.5, 6.6, 6.7, 6.8, 6.9, 7. , 7.1, 7.2, 7.3, 7.4, 7.5, 7.6, 7.7,\n",
       "       7.8, 7.9, 8. , 8.1, 8.2, 8.3, 8.4, 8.5, 8.6, 8.7, 8.8, 8.9, 9. ,\n",
       "       9.1, 9.2, 9.3, 9.4, 9.5, 9.6, 9.7, 9.8, 9.9])"
      ]
     },
     "execution_count": 270,
     "metadata": {},
     "output_type": "execute_result"
    }
   ],
   "source": [
    "np.arange(0,10,0.1)"
   ]
  },
  {
   "cell_type": "code",
   "execution_count": 271,
   "id": "496c95bc",
   "metadata": {},
   "outputs": [],
   "source": [
    "def plot_function(func, x=np.arange(0,10,0.1), ax=None, **kwargs):\n",
    "    if 'figsize' not in kwargs:\n",
    "        kwargs['figsize'] = (3,3)\n",
    "    if ax is None: \n",
    "        ax = plt.subplots(**kwargs)[1]\n",
    "    \n",
    "    y = func(x)\n",
    "    ax.plot(x, y)"
   ]
  },
  {
   "cell_type": "code",
   "execution_count": 272,
   "id": "a6df5f52",
   "metadata": {},
   "outputs": [
    {
     "data": {
      "image/png": "[encoded data removed]",
      "text/plain": [
       "<Figure size 300x300 with 1 Axes>"
      ]
     },
     "metadata": {},
     "output_type": "display_data"
    }
   ],
   "source": [
    "plot_function(our_quadratic_function)"
   ]
  },
  {
   "cell_type": "markdown",
   "id": "28d19cac",
   "metadata": {},
   "source": [
    "## Convolutions"
   ]
  },
  {
   "cell_type": "code",
   "execution_count": 70,
   "id": "751c58d6",
   "metadata": {},
   "outputs": [],
   "source": [
    "from torch.nn.functional import conv2d\n",
    "import torch"
   ]
  },
  {
   "cell_type": "markdown",
   "id": "e17c921e",
   "metadata": {},
   "source": [
    "### Conv2d"
   ]
  },
  {
   "cell_type": "markdown",
   "id": "70ba8c09",
   "metadata": {},
   "source": [
    "We explore [functional form](https://pytorch.org/docs/stable/generated/torch.nn.functional.conv2d.html) of Conv2. Let's make some inputs and kernels:"
   ]
  },
  {
   "cell_type": "code",
   "execution_count": 71,
   "id": "853a8a03",
   "metadata": {},
   "outputs": [],
   "source": [
    "torch.manual_seed(14)\n",
    "x = torch.randn(16, 3, 16, 16) \n",
    "kernel = torch.randn(10, 3, 3, 3)"
   ]
  },
  {
   "cell_type": "markdown",
   "id": "70306e41",
   "metadata": {},
   "source": [
    "basic `Conv2` does what we expect:"
   ]
  },
  {
   "cell_type": "code",
   "execution_count": 72,
   "id": "25e5c892",
   "metadata": {},
   "outputs": [
    {
     "name": "stdout",
     "output_type": "stream",
     "text": [
      "torch.Size([16, 3, 16, 16])\n",
      "torch.Size([16, 10, 14, 14])\n"
     ]
    }
   ],
   "source": [
    "y = conv2d(x, kernel)\n",
    "print(x.shape)\n",
    "print(y.shape)"
   ]
  },
  {
   "cell_type": "markdown",
   "id": "c68db602",
   "metadata": {},
   "source": [
    "Formula for output size for Convolutions is: $[(W−K+2P)/S]+1), where [] is the `np.floor`:"
   ]
  },
  {
   "cell_type": "code",
   "execution_count": 128,
   "id": "59f1d5f7",
   "metadata": {},
   "outputs": [],
   "source": [
    "def get_output_size(w,k,p,s): \n",
    "    return int(((w-k+2*p)/s)+1)"
   ]
  },
  {
   "cell_type": "markdown",
   "id": "8af100d3",
   "metadata": {},
   "source": [
    "In above example:"
   ]
  },
  {
   "cell_type": "code",
   "execution_count": 129,
   "id": "e1fcffdf",
   "metadata": {},
   "outputs": [
    {
     "data": {
      "text/plain": [
       "14"
      ]
     },
     "execution_count": 129,
     "metadata": {},
     "output_type": "execute_result"
    }
   ],
   "source": [
    "get_output_size(16, 3, 0, 1)"
   ]
  },
  {
   "cell_type": "markdown",
   "id": "a75e23c5",
   "metadata": {},
   "source": [
    "if we want the same size, we could pass `padding='same'`:"
   ]
  },
  {
   "cell_type": "code",
   "execution_count": 130,
   "id": "2a2b4340",
   "metadata": {},
   "outputs": [
    {
     "name": "stdout",
     "output_type": "stream",
     "text": [
      "torch.Size([16, 3, 16, 16])\n",
      "torch.Size([16, 10, 16, 16])\n"
     ]
    }
   ],
   "source": [
    "y = conv2d(x, kernel, padding='same')\n",
    "print(x.shape)\n",
    "print(y.shape)"
   ]
  },
  {
   "cell_type": "markdown",
   "id": "892f54e1",
   "metadata": {},
   "source": [
    "This works ok for stride=1, but for stride >1 'same' doesn't make sense anymore in PyTorch (raises `RuntimeError: padding='same' is not supported for strided convolutions)`. In TensorFlow however 'same' assumes one needs $width/stride$ size, which in our case should be 8, instead we get expected 7:"
   ]
  },
  {
   "cell_type": "code",
   "execution_count": 131,
   "id": "0fa8a6da",
   "metadata": {},
   "outputs": [
    {
     "name": "stdout",
     "output_type": "stream",
     "text": [
      "torch.Size([16, 3, 16, 16])\n",
      "torch.Size([16, 10, 7, 7])\n"
     ]
    }
   ],
   "source": [
    "y = conv2d(x, kernel, stride=2)\n",
    "print(x.shape)\n",
    "print(y.shape)"
   ]
  },
  {
   "cell_type": "markdown",
   "id": "58456879",
   "metadata": {},
   "source": [
    "formula checks out:"
   ]
  },
  {
   "cell_type": "code",
   "execution_count": 132,
   "id": "1bf31b66",
   "metadata": {},
   "outputs": [
    {
     "data": {
      "text/plain": [
       "7"
      ]
     },
     "execution_count": 132,
     "metadata": {},
     "output_type": "execute_result"
    }
   ],
   "source": [
    "get_output_size(16, 3, 0, 2)"
   ]
  },
  {
   "cell_type": "markdown",
   "id": "549a6f65",
   "metadata": {},
   "source": [
    "So what's the padding that we need? We need to do some math:"
   ]
  },
  {
   "cell_type": "markdown",
   "id": "0d4924eb",
   "metadata": {},
   "source": [
    "o = output size  \n",
    "w = width  \n",
    "p = padding  \n",
    "s = stride    \n",
    "if we solve the equation for p: \n",
    "o = int((w-k+2*p)/s) + 1   \n",
    "o - 1 = int((w-k+2*p)/s)  \n",
    "and here we have a range:  \n",
    "o - 1 = int((w-k+2*p_min)/s) \n",
    "o - 1 = int((w-k+2*p_max)/s) \n",
    "solving this:\n",
    "(o - 1) * s = min = w-k+2*p_min <= w-k+2*p <= w-k+2*p_max = max < o * s  \n",
    "Note that inequality is not symmetric, the top bound is exclusive.\n",
    "Then:  \n",
    "p_min = ((o-1)*s - w + k) / 2   \n",
    "p_max = (o*s - w + k) / 2  \n",
    "which can both be decimal.\n",
    "at this point we can just get the ceil of p_min and be happy: \n",
    "**$p = np.ceil(((o-1)*s - w + k) / 2)$**"
   ]
  },
  {
   "cell_type": "code",
   "execution_count": 319,
   "id": "f7ae8367",
   "metadata": {},
   "outputs": [],
   "source": [
    "def get_lowest_padding(w,k,s):\n",
    "    o = np.ceil(w/s)\n",
    "    p = (np.ceil((k - (w - (o-1)*s)) / 2)).astype(int)\n",
    "    return p"
   ]
  },
  {
   "cell_type": "code",
   "execution_count": 326,
   "id": "4d065553",
   "metadata": {},
   "outputs": [
    {
     "data": {
      "text/plain": [
       "3"
      ]
     },
     "execution_count": 326,
     "metadata": {},
     "output_type": "execute_result"
    }
   ],
   "source": [
    "get_lowest_padding(90,15,10)"
   ]
  },
  {
   "cell_type": "markdown",
   "id": "455c5f85",
   "metadata": {},
   "source": [
    "Let's plot padding for many image widths:"
   ]
  },
  {
   "cell_type": "code",
   "execution_count": 321,
   "id": "80ec6ba2",
   "metadata": {},
   "outputs": [
    {
     "data": {
      "image/png": "[encoded data removed]",
      "text/plain": [
       "<Figure size 300x300 with 1 Axes>"
      ]
     },
     "metadata": {},
     "output_type": "display_data"
    }
   ],
   "source": [
    "partial_get_padding = partial(get_lowest_padding, k=5, s=2)\n",
    "x = np.arange(200, 300, 1)\n",
    "plot_function(partial_get_padding, x)"
   ]
  },
  {
   "cell_type": "code",
   "execution_count": 322,
   "id": "dfb2e2c0",
   "metadata": {},
   "outputs": [
    {
     "data": {
      "text/plain": [
       "array([2])"
      ]
     },
     "execution_count": 322,
     "metadata": {},
     "output_type": "execute_result"
    }
   ],
   "source": [
    "np.unique(partial_get_padding(np.arange(200,300,1)))"
   ]
  },
  {
   "cell_type": "code",
   "execution_count": 335,
   "id": "4ffb0cee",
   "metadata": {},
   "outputs": [
    {
     "data": {
      "image/png": "[encoded data removed]",
      "text/plain": [
       "<Figure size 300x300 with 1 Axes>"
      ]
     },
     "metadata": {},
     "output_type": "display_data"
    }
   ],
   "source": [
    "partial_get_padding = partial(get_lowest_padding, k=3, s=1)\n",
    "x = np.arange(200, 300, 1)\n",
    "plot_function(partial_get_padding, x)"
   ]
  },
  {
   "cell_type": "markdown",
   "id": "faaca954",
   "metadata": {},
   "source": [
    "So this is funny. Let's look into math again:"
   ]
  },
  {
   "cell_type": "markdown",
   "id": "ca85a311",
   "metadata": {},
   "source": [
    "o = can be even or odd   \n",
    "p = (np.ceil((k - (1 or 2)) / 2))   # generaly speaking p = (np.ceil((k - (1 to s) / 2))  \n",
    "p = (np.ceil((5 - (1 or 2)) / 2))  \n",
    "p = (np.ceil((4 or 3)/ 2))  \n",
    "p = 2"
   ]
  },
  {
   "cell_type": "markdown",
   "id": "83293b67",
   "metadata": {},
   "source": [
    "so that's the reason."
   ]
  },
  {
   "cell_type": "markdown",
   "id": "5cd0b95f",
   "metadata": {},
   "source": [
    "We can also look into limits of p:"
   ]
  },
  {
   "cell_type": "markdown",
   "id": "1a02c1fd",
   "metadata": {},
   "source": [
    "`o = np.ceil(w/s)`  \n",
    "`p = (np.ceil(((o-1)*s - w + k) / 2))`  \n",
    "note that p is maximized when `(o-1)*s - w` is highest, i.e. `w - (o-1)*s` is lowest, which is has lowest value of 1 (by definition of o it can't be 0):   \n",
    "**np.ceil((k-s)/2) <= p <= np.ceil((k-1)/2)**"
   ]
  },
  {
   "cell_type": "code",
   "execution_count": 334,
   "id": "6be351bd",
   "metadata": {},
   "outputs": [
    {
     "name": "stdout",
     "output_type": "stream",
     "text": [
      "3\n",
      "8\n"
     ]
    }
   ],
   "source": [
    "print(get_lowest_padding(90,16,10))  # np.ceil((k-s)/2) = (ceil((16-10)/2) = 3\n",
    "print(get_lowest_padding(91,16,10))   # np.ceil((k-1)/2) = ceil(15/2) = 8 "
   ]
  },
  {
   "cell_type": "markdown",
   "id": "cf950bc0",
   "metadata": {},
   "source": [
    "Finally, for a special, but common case, w = s*o:"
   ]
  },
  {
   "cell_type": "markdown",
   "id": "ffc101b6",
   "metadata": {},
   "source": [
    "general equations:  \n",
    "o = np.ceil(w/s)  \n",
    "p = (np.ceil(((o-1)*s - w + k) / 2))  \n",
    "\n",
    "then:  \n",
    "p = (np.ceil((k-s) / 2))  "
   ]
  },
  {
   "cell_type": "markdown",
   "id": "c8233f1f",
   "metadata": {},
   "source": [
    "so padding doesn't depend on the width in this case. **We will stick with this formula since it makes it simple not to worry about the width, so long our images are divisible by s**. "
   ]
  },
  {
   "cell_type": "markdown",
   "id": "5e2ad729",
   "metadata": {},
   "source": [
    "### Conv2Transpose"
   ]
  },
  {
   "cell_type": "markdown",
   "id": "7ceebfce",
   "metadata": {},
   "source": [
    "For transpose convolution (which upsample there is also `output_padding` that fills only one-side (useful for those 'same' paddings)\n",
    "\n"
   ]
  },
  {
   "cell_type": "markdown",
   "id": "122f4f56",
   "metadata": {},
   "source": [
    "# UNet"
   ]
  },
  {
   "cell_type": "code",
   "execution_count": null,
   "id": "c904816d",
   "metadata": {},
   "outputs": [],
   "source": [
    "\"\"\" Full assembly of the parts to form the complete network \"\"\"\n",
    "\n",
    "from .unet_parts import *\n",
    "\n",
    "\n",
    "class UNet(nn.Module):\n",
    "    def __init__(self, n_channels, n_classes, bilinear=False):\n",
    "        super(UNet, self).__init__()\n",
    "        self.n_channels = n_channels\n",
    "        self.n_classes = n_classes\n",
    "        self.bilinear = bilinear\n",
    "\n",
    "        self.inc = (DoubleConv(n_channels, 64))\n",
    "        self.down1 = (Down(64, 128))\n",
    "        self.down2 = (Down(128, 256))\n",
    "        self.down3 = (Down(256, 512))\n",
    "        factor = 2 if bilinear else 1\n",
    "        self.down4 = (Down(512, 1024 // factor))\n",
    "        self.up1 = (Up(1024, 512 // factor, bilinear))\n",
    "        self.up2 = (Up(512, 256 // factor, bilinear))\n",
    "        self.up3 = (Up(256, 128 // factor, bilinear))\n",
    "        self.up4 = (Up(128, 64, bilinear))\n",
    "        self.outc = (OutConv(64, n_classes))\n",
    "\n",
    "    def forward(self, x):\n",
    "        x1 = self.inc(x)\n",
    "        x2 = self.down1(x1)\n",
    "        x3 = self.down2(x2)\n",
    "        x4 = self.down3(x3)\n",
    "        x5 = self.down4(x4)\n",
    "        x = self.up1(x5, x4)\n",
    "        x = self.up2(x, x3)\n",
    "        x = self.up3(x, x2)\n",
    "        x = self.up4(x, x1)\n",
    "        logits = self.outc(x)\n",
    "        return logits\n",
    "\n",
    "    def use_checkpointing(self):\n",
    "        self.inc = torch.utils.checkpoint(self.inc)\n",
    "        self.down1 = torch.utils.checkpoint(self.down1)\n",
    "        self.down2 = torch.utils.checkpoint(self.down2)\n",
    "        self.down3 = torch.utils.checkpoint(self.down3)\n",
    "        self.down4 = torch.utils.checkpoint(self.down4)\n",
    "        self.up1 = torch.utils.checkpoint(self.up1)\n",
    "        self.up2 = torch.utils.checkpoint(self.up2)\n",
    "        self.up3 = torch.utils.checkpoint(self.up3)\n",
    "        self.up4 = torch.utils.checkpoint(self.up4)\n",
    "        self.outc = torch.utils.checkpoint(self.outc)"
   ]
  },
  {
   "cell_type": "code",
   "execution_count": null,
   "id": "8f0eb28b",
   "metadata": {},
   "outputs": [],
   "source": [
    "v"
   ]
  }
 ],
 "metadata": {
  "kernelspec": {
   "display_name": "solar_panel",
   "language": "python",
   "name": "solar_panel"
  },
  "language_info": {
   "codemirror_mode": {
    "name": "ipython",
    "version": 3
   },
   "file_extension": ".py",
   "mimetype": "text/x-python",
   "name": "python",
   "nbconvert_exporter": "python",
   "pygments_lexer": "ipython3",
   "version": "3.10.8"
  },
  "toc": {
   "base_numbering": 1,
   "nav_menu": {},
   "number_sections": true,
   "sideBar": true,
   "skip_h1_title": false,
   "title_cell": "Table of Contents",
   "title_sidebar": "Contents",
   "toc_cell": false,
   "toc_position": {
    "height": "calc(100% - 180px)",
    "left": "10px",
    "top": "150px",
    "width": "189.4px"
   },
   "toc_section_display": true,
   "toc_window_display": true
  }
 },
 "nbformat": 4,
 "nbformat_minor": 5
}
