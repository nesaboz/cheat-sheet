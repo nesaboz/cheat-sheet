{
 "cells": [
  {
   "cell_type": "markdown",
   "metadata": {},
   "source": [
    "# Nbdev"
   ]
  },
  {
   "cell_type": "markdown",
   "metadata": {},
   "source": [
    "See main page [here](https://nbdev.fast.ai/tutorials/tutorial.html)\n",
    "\n",
    "\n",
    "```zsh\n",
    "nbdev_help  # this list all commands \n",
    "```\n",
    "\n",
    "Tutorial says we might need to also run the following after export once: `pip install -e .`\n",
    " (-e installs a project in editable mode (i.e. setuptools \"develop mode\") from a local project path (.))\n",
    "\n",
    "| Command | Action | \n",
    "| - | - |\n",
    "| `nbdev_prepare` | use it before commit and push, it will run all the code though | \n",
    "| `nbdev_update` | propagates changes from python to jupyter | \n",
    "| `nbdev_preview` | to see pages, and this one is live | \n",
    "| `nbdev_export` | will export all cells with `#export` flag into a filename defined in the top using <code>#&vert; default_exp filename</code> |\n",
    "\n",
    "One can also export from jupyter notebook:\n",
    "\n",
    "``` jupyter\n",
    "from nbdev import nbdev_export\n",
    "nbdev_export()\n",
    "```\n"
   ]
  }
 ],
 "metadata": {
  "kernelspec": {
   "display_name": "Python 3 (ipykernel)",
   "language": "python",
   "name": "python3"
  }
 },
 "nbformat": 4,
 "nbformat_minor": 4
}
