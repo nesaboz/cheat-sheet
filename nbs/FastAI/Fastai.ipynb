{
 "cells": [
  {
   "cell_type": "markdown",
   "metadata": {},
   "source": [
    "# FastAI"
   ]
  },
  {
   "cell_type": "markdown",
   "metadata": {},
   "source": [
    "\n",
    "To install fastai project on any linux machine (more [here](https://github.com/fastai/fastsetup), also see [docs](https://docs.fast.ai/)):\n",
    "\n",
    "```zsh\n",
    "sudo apt update && sudo apt -y install git\n",
    "git clone https://github.com/fastai/fastsetup.git\n",
    "cd fastsetup\n",
    "sudo ./ubuntu-initial.sh\n",
    "```\n",
    "\n",
    "wait a couple of minutes for reboot, then ssh back in:\n",
    "\n",
    "```zsh\n",
    "mamba install -c fastchan fastai\n",
    "conda install -c fastchan nbdev\n",
    "conda install -c anaconda pillow\n",
    "conda install jupyter\n",
    "pip install gradio\n",
    "```\n",
    "\n"
   ]
  }
 ],
 "metadata": {
  "kernelspec": {
   "display_name": "Python 3 (ipykernel)",
   "language": "python",
   "name": "python3"
  }
 },
 "nbformat": 4,
 "nbformat_minor": 4
}
