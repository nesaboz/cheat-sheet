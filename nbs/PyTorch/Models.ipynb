{
 "cells": [
  {
   "cell_type": "markdown",
   "metadata": {},
   "source": [
    "# Models"
   ]
  },
  {
   "cell_type": "markdown",
   "metadata": {},
   "source": [
    "\n",
    "```python\n",
    "torch.nn.BatchNorm2d(\n",
    "_num_features_,\n",
    "_eps=1e-05_,\n",
    "_momentum=0.1_,\n",
    "_affine=True_,\n",
    "_track_running_stats=True_,\n",
    "_device=None_,\n",
    "_dtype=None_\n",
    ")\n",
    "```\n",
    "\n",
    "\n",
    "One must define all layers in the `__init__` in order to initialize them. Remember that `forward` method will be called during `training` so **no layers with parameters** should be defined there."
   ]
  }
 ],
 "metadata": {
  "kernelspec": {
   "display_name": "Python 3 (ipykernel)",
   "language": "python",
   "name": "python3"
  }
 },
 "nbformat": 4,
 "nbformat_minor": 4
}
