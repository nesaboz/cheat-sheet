{
 "cells": [
  {
   "cell_type": "markdown",
   "metadata": {},
   "source": [
    "# Regex"
   ]
  },
  {
   "cell_type": "markdown",
   "metadata": {},
   "source": [
    "Suppose we need to extract `row` and `col` from a string:\n",
    "\n",
    "```python\n",
    "import re\n",
    "some_string = 'R1C2_row62_col24.png'\n",
    "m = re.match(r\".*row(\\d+)_col(\\d+).*.png\", some_string)\n",
    "row = int(m.group(1))\n",
    "col = int(m.group(2))\n",
    "assert row == 62\n",
    "assert col == 24\n",
    "```\n",
    "\n",
    "Test here [https://regex101.com/](https://regex101.com/)\n",
    "\n",
    "| Character | Action |\n",
    "| - | - |\n",
    "|  `.` | any character |\n",
    "| `\\d` | only numbers (if we need decimal point user a backslash (\\.) |\n",
    "| `?`  | Zero or one character | \n",
    "| `+`  | One or many |\n",
    "| `*`  | Any character count |\n",
    "\n",
    "Good [tutorial](https://medium.com/factory-mind/regex-tutorial-a-simple-cheatsheet-by-examples-649dc1c3f285)."
   ]
  }
 ],
 "metadata": {
  "kernelspec": {
   "display_name": "Python 3 (ipykernel)",
   "language": "python",
   "name": "python3"
  }
 },
 "nbformat": 4,
 "nbformat_minor": 4
}
