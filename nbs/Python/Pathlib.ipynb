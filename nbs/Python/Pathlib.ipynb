{
 "cells": [
  {
   "cell_type": "markdown",
   "metadata": {},
   "source": [
    "# Pathlib"
   ]
  },
  {
   "cell_type": "markdown",
   "metadata": {},
   "source": [
    "\n",
    "```python\n",
    "from pathlib import Path\n",
    "assert Path(<some_file>).is_file()\n",
    "```\n",
    "\n",
    "\n",
    "## Platform\n",
    "\n",
    "```\n",
    "import platform \n",
    "if 'macOS' in platform.platform():\n",
    "\tprint('This is Mac')\n",
    "```\n"
   ]
  }
 ],
 "metadata": {
  "kernelspec": {
   "display_name": "Python 3 (ipykernel)",
   "language": "python",
   "name": "python3"
  }
 },
 "nbformat": 4,
 "nbformat_minor": 4
}
