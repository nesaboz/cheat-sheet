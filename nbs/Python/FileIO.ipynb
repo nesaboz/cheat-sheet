{
 "cells": [
  {
   "cell_type": "markdown",
   "metadata": {},
   "source": [
    "# FileIO"
   ]
  },
  {
   "cell_type": "markdown",
   "metadata": {},
   "source": [
    "## JSON\n",
    "\n",
    "To dump data to json file:\n",
    "```python\n",
    "output_path = <some_dir> / \"some_file.json\"  \n",
    "params = {'a': 1, 'b': 2}\n",
    "with output_path.open('w') as f:  \n",
    "    json.dump(params, f, indent=4)\n",
    "```\n",
    "\n",
    "to load from json file:\n",
    "```python\n",
    "with input_path.open() as f:  \n",
    "    result = json.load(f)\n",
    "```\n",
    "\n",
    "\n",
    "## shutil\n",
    "\n",
    "```python\n",
    "shutil.copy(src_path, dst_path)\n",
    "```\n"
   ]
  }
 ],
 "metadata": {
  "kernelspec": {
   "display_name": "Python 3 (ipykernel)",
   "language": "python",
   "name": "python3"
  }
 },
 "nbformat": 4,
 "nbformat_minor": 4
}
