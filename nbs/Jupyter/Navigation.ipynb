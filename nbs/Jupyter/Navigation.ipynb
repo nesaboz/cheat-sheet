{
 "cells": [
  {
   "cell_type": "markdown",
   "metadata": {},
   "source": [
    "# Navigation"
   ]
  },
  {
   "cell_type": "markdown",
   "metadata": {},
   "source": [
    "\n",
    "## Help\n",
    "To see parameters: `SHIFT + TAB`\n",
    "For help use `?` before or after the command.\n",
    "For autocompletion: `TAB + TAB`\n",
    "Merge cells, select cells then: `Shift + M` ``\n",
    "\n",
    "\n",
    "For raw text use:\n",
    "```text\n",
    "```text\n",
    "```\n",
    "and close with\n",
    "```text\n",
    "<```> but without the <> (that's the only one text that can't be displayed I guess!)\n",
    "```\n",
    "\n",
    "\n",
    "To add some empy space in markdown one can use:\n",
    "~~~\n",
    "&nbsp;\n",
    "~~~\n",
    "\n",
    "\n",
    "## Magic commands\n",
    "To autoreload edited python files (doesn't include class signatures changes, these you have to re-import): \n",
    "```jupyter\n",
    "%load_ext autoreload\n",
    "%autoreload 2\n",
    "```\n",
    "\n"
   ]
  }
 ],
 "metadata": {
  "kernelspec": {
   "display_name": "Python 3 (ipykernel)",
   "language": "python",
   "name": "python3"
  }
 },
 "nbformat": 4,
 "nbformat_minor": 4
}
