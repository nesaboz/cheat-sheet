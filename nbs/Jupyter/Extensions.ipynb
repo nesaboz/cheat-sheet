{
 "cells": [
  {
   "cell_type": "markdown",
   "metadata": {},
   "source": [
    "# Extensions"
   ]
  },
  {
   "cell_type": "markdown",
   "metadata": {},
   "source": [
    "\n",
    "```zsh\n",
    "conda install -c conda-forge jupyter_contrib_nbextensions\n",
    "```\n",
    "\n",
    "After installation and restart, you will see `nbextensions` tab, two most notable extensions are `collapsable headings` and `table of context 2 (toc2)`.\n"
   ]
  }
 ],
 "metadata": {
  "kernelspec": {
   "display_name": "Python 3 (ipykernel)",
   "language": "python",
   "name": "python3"
  }
 },
 "nbformat": 4,
 "nbformat_minor": 4
}
