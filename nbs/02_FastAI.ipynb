{
 "cells": [
  {
   "cell_type": "markdown",
   "metadata": {},
   "source": [
    "# FastAI"
   ]
  },
  {
   "cell_type": "markdown",
   "metadata": {},
   "source": [
    "# HuggingFace"
   ]
  },
  {
   "cell_type": "markdown",
   "metadata": {},
   "source": [
    "Couldn't upload large files without git-lfs (lfs stands for [large file storage](https://stackoverflow.com/questions/67395259/git-clone-git-lfs-filter-process-git-lfs-command-not-found))\n",
    "\n",
    "```zsh\n",
    "brew install git-lfs\n",
    "git lfs install\n",
    "```\n",
    "\n",
    "Hugging space doesn't allow binary files in repo, so the file extensions needs to be added to `.gitattributes`.\n",
    "\n",
    "We must have `requirements.txt` file in the hugging space repo:\n",
    "```text\n",
    "\"If you need other Python packages to run your app, add them to a requirements.txt file at the root of the repository. The Spaces runtime engine will create a custom environment on-the-fly.\"\n",
    "```\n",
    "\n"
   ]
  },
  {
   "cell_type": "markdown",
   "metadata": {},
   "source": [
    "# FastAI"
   ]
  },
  {
   "cell_type": "markdown",
   "metadata": {},
   "source": [
    "\n",
    "To install fastai project on any linux machine (more [here](https://github.com/fastai/fastsetup), also see [docs](https://docs.fast.ai/)):\n",
    "\n",
    "```zsh\n",
    "sudo apt update && sudo apt -y install git\n",
    "git clone https://github.com/fastai/fastsetup.git\n",
    "cd fastsetup\n",
    "sudo ./ubuntu-initial.sh\n",
    "```\n",
    "\n",
    "wait a couple of minutes for reboot, then ssh back in:\n",
    "\n",
    "```zsh\n",
    "mamba install -c fastchan fastai\n",
    "conda install -c fastchan nbdev\n",
    "conda install -c anaconda pillow\n",
    "conda install jupyter\n",
    "pip install gradio\n",
    "```\n",
    "\n"
   ]
  },
  {
   "cell_type": "markdown",
   "metadata": {},
   "source": [
    "# nbdev"
   ]
  },
  {
   "cell_type": "markdown",
   "metadata": {},
   "source": [
    "See main page [here](https://nbdev.fast.ai/tutorials/tutorial.html)\n",
    "\n",
    "\n",
    "```zsh\n",
    "nbdev_help  # this list all commands \n",
    "```\n",
    "\n",
    "Tutorial says we might need to also run the following after export once: `pip install -e .`\n",
    " (-e installs a project in editable mode (i.e. setuptools \"develop mode\") from a local project path (.))\n",
    "\n",
    "| Command | Action | \n",
    "| - | - |\n",
    "| `nbdev_prepare` | use it before commit and push, it will run all the code though | \n",
    "| `nbdev_update` | propagates changes from python to jupyter | \n",
    "| `nbdev_preview` | to see pages, and this one is live | \n",
    "| `nbdev_export` | will export all cells with `#export` flag into a filename defined in the top using <code>#&vert; default_exp filename</code> |\n",
    "\n",
    "One can also export from jupyter notebook:\n",
    "\n",
    "``` jupyter\n",
    "from nbdev import nbdev_export\n",
    "nbdev_export()\n",
    "```\n"
   ]
  },
  {
   "cell_type": "markdown",
   "metadata": {},
   "source": [
    "# Azure"
   ]
  },
  {
   "cell_type": "markdown",
   "metadata": {},
   "source": [
    "To see keys that one can use to run Bing API go [here](https://portal.azure.com/#home)\n",
    "\n",
    "![[FastAI/assets/Pasted_image_20221221121217.png]]\n"
   ]
  }
 ],
 "metadata": {
  "kernelspec": {
   "display_name": "Python 3 (ipykernel)",
   "language": "python",
   "name": "python3"
  }
 },
 "nbformat": 4,
 "nbformat_minor": 4
}
