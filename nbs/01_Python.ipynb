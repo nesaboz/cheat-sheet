{
 "cells": [
  {
   "cell_type": "markdown",
   "metadata": {},
   "source": [
    "# Python"
   ]
  },
  {
   "cell_type": "code",
   "execution_count": null,
   "metadata": {},
   "outputs": [],
   "source": [
    "#| hide\n",
    "from nbdev.showdoc import *"
   ]
  },
  {
   "cell_type": "code",
   "execution_count": null,
   "metadata": {},
   "outputs": [
    {
     "data": {
      "text/markdown": [
       "# PIL\n",
       "\n",
       "```python\n",
       "from PIL import Image\n",
       "im = Image.open(\"some path\")\n",
       "im.show()\n",
       "```\n",
       "\n",
       "In jupyter one can use only:\n",
       "```jupyter\n",
       "im   # or display(im)\n",
       "```\n",
       "\n",
       "To create new image:\n",
       "```python\n",
       "width, height = 256, 256\n",
       "mask = Image.new('L', (width, height), 0)\n",
       "```\n",
       "\n",
       "Example to draw a polygon:\n",
       "```python\n",
       "from PIL import ImageDraw\n",
       "polygon = [(4, 1), (1, 54), (1, 222), (13, 1)]\n",
       "ImageDraw.Draw(mask).polygon(polygon, outline=255, fill=255)\n",
       "```\n",
       "\n",
       "To load image from png, show bands (i.e. channels):\n",
       "```python\n",
       "im = Image.open('example.png')\n",
       "print(im.getbands())\n",
       "im.getchannel('R')\n",
       "```\n",
       "\n",
       "to convert to tensor:\n",
       "```python\n",
       "from torchvision.transforms import ToTensor\n",
       "tensorizer = ToTensor()\n",
       "im_tensor = tensorizer(im)\n",
       "print(im_tensor.shape)\n",
       "im_tensor[:, :3, :3]\n",
       "```\n"
      ],
      "text/plain": [
       "<IPython.core.display.Markdown object>"
      ]
     },
     "metadata": {},
     "output_type": "display_data"
    },
    {
     "data": {
      "text/markdown": [
       "# Pathlib\n",
       "\n",
       "```python\n",
       "from pathlib import Path\n",
       "assert Path(<some_file>).is_file()\n",
       "```\n",
       "\n",
       "\n",
       "## Platform\n",
       "\n",
       "```\n",
       "import platform \n",
       "if 'macOS' in platform.platform():\n",
       "\tprint('This is Mac')\n",
       "```\n"
      ],
      "text/plain": [
       "<IPython.core.display.Markdown object>"
      ]
     },
     "metadata": {},
     "output_type": "display_data"
    },
    {
     "data": {
      "text/markdown": [
       "# PyTest\n",
       "\n",
       "```\n",
       "pip install pytest\n",
       "```\n",
       "\n",
       "You will need `pytest.ini` in the root:\n",
       "```\n",
       "[pytest]\n",
       "pythonpath = ''\n",
       "```\n",
       "`pythonpath` adds a path to `sys.path` relative to the root so the imports in test files work.\n",
       "\n",
       "To discover and run all tests run in terminal:\n",
       "```zsh\n",
       "pytest\n",
       "```\n",
       "\n",
       "To run only specific tests:\n",
       "```zsh\n",
       "pytest filename.py\n",
       "```\n",
       "\n",
       "[docs](https://docs.pytest.org/en/7.1.x/example/pythoncollection.html)"
      ],
      "text/plain": [
       "<IPython.core.display.Markdown object>"
      ]
     },
     "metadata": {},
     "output_type": "display_data"
    },
    {
     "data": {
      "text/markdown": [
       "# Regex\n",
       "\n",
       "Suppose we need to extract `row` and `col` from a string:\n",
       "\n",
       "```python\n",
       "import re\n",
       "some_string = 'R1C2_row62_col24.png'\n",
       "m = re.match(r\".*row(\\d+)_col(\\d+).*.png\", some_string)\n",
       "row = int(m.group(1))\n",
       "col = int(m.group(2))\n",
       "assert row == 62\n",
       "assert col == 24\n",
       "```\n",
       "\n",
       "Test here [https://regex101.com/](https://regex101.com/)\n",
       "\n",
       "| Character | Action |\n",
       "| - | - |\n",
       "|  `.` | any character |\n",
       "| `\\d` | only numbers (if we need decimal point user a backslash (\\.) |\n",
       "| `?`  | Zero or one character | \n",
       "| `+`  | One or many |\n",
       "| `*`  | Any character count |\n",
       "\n",
       "Good [tutorial](https://medium.com/factory-mind/regex-tutorial-a-simple-cheatsheet-by-examples-649dc1c3f285)."
      ],
      "text/plain": [
       "<IPython.core.display.Markdown object>"
      ]
     },
     "metadata": {},
     "output_type": "display_data"
    }
   ],
   "source": [
    "#| hide\n",
    "from IPython.display import Markdown, display\n",
    "display(Markdown(\"Python/PIL.md\"))\n",
    "display(Markdown(\"Python/Pathlib.md\"))\n",
    "display(Markdown(\"Python/PyTest.md\"))\n",
    "display(Markdown(\"Python/Regex.md\"))"
   ]
  }
 ],
 "metadata": {
  "kernelspec": {
   "display_name": "Python 3 (ipykernel)",
   "language": "python",
   "name": "python3"
  }
 },
 "nbformat": 4,
 "nbformat_minor": 4
}
