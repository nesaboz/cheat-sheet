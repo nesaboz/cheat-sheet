{
 "cells": [
  {
   "cell_type": "markdown",
   "metadata": {},
   "source": [
    "# PyTest"
   ]
  },
  {
   "cell_type": "markdown",
   "metadata": {},
   "source": [
    "\n",
    "```\n",
    "pip install pytest\n",
    "```\n",
    "\n",
    "You will need `pytest.ini` in the root:\n",
    "```\n",
    "[pytest]\n",
    "pythonpath = ''\n",
    "```\n",
    "`pythonpath` adds a path to `sys.path` relative to the root so the imports in test files work.\n",
    "\n",
    "To discover and run all tests run in terminal:\n",
    "```zsh\n",
    "pytest\n",
    "```\n",
    "\n",
    "To run only specific tests:\n",
    "```zsh\n",
    "pytest filename.py\n",
    "```\n",
    "\n",
    "[docs](https://docs.pytest.org/en/7.1.x/example/pythoncollection.html)"
   ]
  }
 ],
 "metadata": {
  "kernelspec": {
   "display_name": "Python 3 (ipykernel)",
   "language": "python",
   "name": "python3"
  }
 },
 "nbformat": 4,
 "nbformat_minor": 4
}
