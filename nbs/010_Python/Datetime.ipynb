{
 "cells": [
  {
   "cell_type": "markdown",
   "id": "759baeb8",
   "metadata": {},
   "source": [
    "# Datetime"
   ]
  },
  {
   "cell_type": "code",
   "execution_count": 2,
   "id": "dc102e99",
   "metadata": {},
   "outputs": [],
   "source": [
    "import datetime"
   ]
  },
  {
   "cell_type": "code",
   "execution_count": null,
   "id": "07dc3098",
   "metadata": {},
   "outputs": [
    {
     "data": {
      "text/plain": [
       "'20230119_112149'"
      ]
     },
     "execution_count": null,
     "metadata": {},
     "output_type": "execute_result"
    }
   ],
   "source": [
    "datetime.datetime.now().strftime('%Y%m%d_%H%M%S')"
   ]
  },
  {
   "cell_type": "code",
   "execution_count": null,
   "id": "5b3019e7",
   "metadata": {},
   "outputs": [
    {
     "data": {
      "text/plain": [
       "'2023_01_19'"
      ]
     },
     "execution_count": null,
     "metadata": {},
     "output_type": "execute_result"
    }
   ],
   "source": [
    "datetime.datetime.now().strftime('%Y_%m_%d')"
   ]
  },
  {
   "cell_type": "code",
   "execution_count": 3,
   "outputs": [
    {
     "name": "stdout",
     "output_type": "stream",
     "text": [
      "1845\n"
     ]
    }
   ],
   "source": [
    "def get_elapsed_days(b):\n",
    "    a = datetime.datetime.now()\n",
    "    return (a-b).days\n",
    "\n",
    "b = datetime.datetime(2018, 1, 10, 14, 37)\n",
    "print(get_elapsed_days(b))"
   ],
   "metadata": {
    "collapsed": false
   }
  }
 ],
 "metadata": {
  "kernelspec": {
   "display_name": "pytorched",
   "language": "python",
   "name": "pytorched"
  }
 },
 "nbformat": 4,
 "nbformat_minor": 5
}
