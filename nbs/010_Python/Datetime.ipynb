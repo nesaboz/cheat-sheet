{
 "cells": [
  {
   "cell_type": "markdown",
   "id": "759baeb8",
   "metadata": {},
   "source": [
    "# Datetime"
   ]
  },
  {
   "cell_type": "code",
   "execution_count": null,
   "id": "dc102e99",
   "metadata": {},
   "outputs": [],
   "source": [
    "import datetime"
   ]
  },
  {
   "cell_type": "code",
   "execution_count": null,
   "id": "07dc3098",
   "metadata": {},
   "outputs": [
    {
     "data": {
      "text/plain": [
       "'20230119_112149'"
      ]
     },
     "execution_count": null,
     "metadata": {},
     "output_type": "execute_result"
    }
   ],
   "source": [
    "datetime.datetime.now().strftime('%Y%m%d_%H%M%S')"
   ]
  },
  {
   "cell_type": "code",
   "execution_count": null,
   "id": "5b3019e7",
   "metadata": {},
   "outputs": [
    {
     "data": {
      "text/plain": [
       "'2023_01_19'"
      ]
     },
     "execution_count": null,
     "metadata": {},
     "output_type": "execute_result"
    }
   ],
   "source": [
    "datetime.datetime.now().strftime('%Y_%m_%d')"
   ]
  }
 ],
 "metadata": {
  "kernelspec": {
   "display_name": "pytorched",
   "language": "python",
   "name": "pytorched"
  }
 },
 "nbformat": 4,
 "nbformat_minor": 5
}
