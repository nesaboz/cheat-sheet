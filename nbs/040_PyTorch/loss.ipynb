{
 "cells": [
  {
   "cell_type": "markdown",
   "metadata": {},
   "source": [
    "# Loss"
   ]
  },
  {
   "cell_type": "markdown",
   "metadata": {},
   "source": [
    "# [CrossEntropyloss](https://pytorch.org/docs/stable/generated/torch.nn.CrossEntropyLoss.html)"
   ]
  },
  {
   "cell_type": "markdown",
   "metadata": {},
   "source": [
    "If `logit` shape is `[N, C, d1, d2]` (where N is the number of images and C is the number of classes to predict),\n",
    "then `target` (i.e. label) shape must be `[N, d1, d2]`.\n",
    "\n",
    "Then the loss will be calculated as:\n",
    "`nn.CrossEntropyLoss(weight)(logit, target)`\n",
    "\n",
    "weight is a tensor for unbalanced datasets. Must be `tensor.float`. \n",
    "\n",
    "When using masking, one should use masked:"
   ]
  },
  {
   "cell_type": "code",
   "execution_count": null,
   "metadata": {},
   "outputs": [],
   "source": [
    "def masked_cross_entropy_loss_fn(y_pred, y_true):\n",
    "    out_of_bounds_mask = (y_true == out_of_bounds_value) # find out the out-of-bounds\n",
    "    return nn.CrossEntropyLoss(weight=weights)(\n",
    "        y_pred.masked_fill(out_of_bounds.unsqueeze(axis=1), 0), \n",
    "        y_true.masked_fill(out_of_bounds, 0)\n",
    "    )"
   ]
  }
 ],
 "metadata": {
  "kernelspec": {
   "display_name": "Python 3 (ipykernel)",
   "language": "python",
   "name": "python3"
  }
 },
 "nbformat": 4,
 "nbformat_minor": 1
}
