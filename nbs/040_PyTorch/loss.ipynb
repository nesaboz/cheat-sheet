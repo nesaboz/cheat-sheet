{
 "cells": [
  {
   "cell_type": "markdown",
   "source": [
    "# Loss"
   ],
   "metadata": {
    "collapsed": false
   }
  },
  {
   "cell_type": "markdown",
   "source": [
    "# [CrossEntropyloss](https://pytorch.org/docs/stable/generated/torch.nn.CrossEntropyLoss.html)"
   ],
   "metadata": {
    "collapsed": false
   }
  },
  {
   "cell_type": "markdown",
   "source": [
    "If `logit` shape is `[N, C, d1, d2]` (where N is the number of images and C is the number of classes to predict),\n",
    "then `target` (i.e. label) shape must be `[N, d1, d2]`.\n",
    "\n",
    "Then the loss will be calculated as:\n",
    "`nn.CrossEntropyLoss()(logit, target)`\n",
    "\n",
    "when using masking, one should use:\n",
    "`mask = (target == out_of_bounds_value)`\n",
    "`nn.CrossEntropyLoss()(logit.masked_fill(mask.unsqueeze(1), 0), target.masked_fill(mask, 0)`\n"
   ],
   "metadata": {
    "collapsed": false
   }
  }
 ],
 "metadata": {
  "kernelspec": {
   "display_name": "Python 3",
   "language": "python",
   "name": "python3"
  },
  "language_info": {
   "codemirror_mode": {
    "name": "ipython",
    "version": 2
   },
   "file_extension": ".py",
   "mimetype": "text/x-python",
   "name": "python",
   "nbconvert_exporter": "python",
   "pygments_lexer": "ipython2",
   "version": "2.7.6"
  }
 },
 "nbformat": 4,
 "nbformat_minor": 0
}
