{
 "cells": [
  {
   "cell_type": "markdown",
   "source": [
    "# Convolutions"
   ],
   "metadata": {
    "collapsed": false
   }
  },
  {
   "cell_type": "code",
   "execution_count": 9,
   "outputs": [],
   "source": [
    "from torch.nn.functional import conv2d\n",
    "import torch\n",
    "import numpy as np"
   ],
   "metadata": {
    "collapsed": false
   }
  },
  {
   "cell_type": "markdown",
   "source": [
    "Note: `torch.nn.Conv2d` is a `Module` that initializes all parameters i.e. kernel will be learned. Only [functional form](https://pytorch.org/docs/stable/generated/torch.nn.functional.conv2d.html) can take kernel as input."
   ],
   "metadata": {
    "collapsed": false
   }
  },
  {
   "cell_type": "markdown",
   "source": [
    "## Conv2d"
   ],
   "metadata": {
    "collapsed": false
   }
  },
  {
   "cell_type": "markdown",
   "source": [
    "We explore [functional form](https://pytorch.org/docs/stable/generated/torch.nn.functional.conv2d.html) of `conv2d`. Let's make some inputs and kernels:"
   ],
   "metadata": {
    "collapsed": false
   }
  },
  {
   "cell_type": "code",
   "execution_count": 14,
   "outputs": [],
   "source": [
    "torch.manual_seed(14)\n",
    "x = torch.randn(16, 3, 16, 16)\n",
    "kernel = torch.randn(10, 3, 3, 3)"
   ],
   "metadata": {
    "collapsed": false
   }
  },
  {
   "cell_type": "markdown",
   "source": [
    "basic `Conv2` does what we expect:"
   ],
   "metadata": {
    "collapsed": false
   }
  },
  {
   "cell_type": "code",
   "execution_count": 15,
   "outputs": [
    {
     "name": "stdout",
     "output_type": "stream",
     "text": [
      "torch.Size([16, 3, 16, 16])\n",
      "torch.Size([16, 10, 14, 14])\n"
     ]
    }
   ],
   "source": [
    "y = conv2d(x, kernel)\n",
    "print(x.shape)\n",
    "print(y.shape)"
   ],
   "metadata": {
    "collapsed": false
   }
  },
  {
   "cell_type": "markdown",
   "source": [
    "Formula for output size for Convolutions is: $[(W−K+2P)/S]+1), where [] is the `np.floor`:"
   ],
   "metadata": {
    "collapsed": false
   }
  },
  {
   "cell_type": "code",
   "execution_count": 16,
   "outputs": [],
   "source": [
    "def get_output_size(w,k,p,s):\n",
    "    return int(((w-k+2*p)/s)+1)"
   ],
   "metadata": {
    "collapsed": false
   }
  },
  {
   "cell_type": "markdown",
   "source": [
    "In above example:"
   ],
   "metadata": {
    "collapsed": false
   }
  },
  {
   "cell_type": "code",
   "execution_count": 17,
   "outputs": [
    {
     "data": {
      "text/plain": "14"
     },
     "execution_count": 17,
     "metadata": {},
     "output_type": "execute_result"
    }
   ],
   "source": [
    "get_output_size(16, 3, 0, 1)"
   ],
   "metadata": {
    "collapsed": false
   }
  },
  {
   "cell_type": "markdown",
   "source": [
    "if we want the same size, we could pass `padding='same'`:"
   ],
   "metadata": {
    "collapsed": false
   }
  },
  {
   "cell_type": "code",
   "execution_count": 18,
   "outputs": [
    {
     "name": "stdout",
     "output_type": "stream",
     "text": [
      "torch.Size([16, 3, 16, 16])\n",
      "torch.Size([16, 10, 16, 16])\n"
     ]
    }
   ],
   "source": [
    "y = conv2d(x, kernel, padding='same')\n",
    "print(x.shape)\n",
    "print(y.shape)"
   ],
   "metadata": {
    "collapsed": false
   }
  },
  {
   "cell_type": "markdown",
   "source": [
    "This works ok for stride=1, but for stride >1 'same' doesn't make sense anymore in PyTorch (raises `RuntimeError: padding='same' is not supported for strided convolutions)`. In TensorFlow however 'same' assumes one needs $width/stride$ size, which in our case should be 8, instead we get expected 7:"
   ],
   "metadata": {
    "collapsed": false
   }
  },
  {
   "cell_type": "code",
   "execution_count": 19,
   "outputs": [
    {
     "name": "stdout",
     "output_type": "stream",
     "text": [
      "torch.Size([16, 3, 16, 16])\n",
      "torch.Size([16, 10, 7, 7])\n"
     ]
    }
   ],
   "source": [
    "y = conv2d(x, kernel, stride=2)\n",
    "print(x.shape)\n",
    "print(y.shape)"
   ],
   "metadata": {
    "collapsed": false
   }
  },
  {
   "cell_type": "markdown",
   "source": [
    "formula checks out:"
   ],
   "metadata": {
    "collapsed": false
   }
  },
  {
   "cell_type": "code",
   "execution_count": 20,
   "outputs": [
    {
     "data": {
      "text/plain": "7"
     },
     "execution_count": 20,
     "metadata": {},
     "output_type": "execute_result"
    }
   ],
   "source": [
    "get_output_size(16, 3, 0, 2)"
   ],
   "metadata": {
    "collapsed": false
   }
  },
  {
   "cell_type": "markdown",
   "source": [
    "So what's the padding that we need? We need to do some math:"
   ],
   "metadata": {
    "collapsed": false
   }
  },
  {
   "cell_type": "markdown",
   "source": [
    "o = output size\n",
    "w = width\n",
    "p = padding\n",
    "s = stride\n",
    "if we solve the equation for p:\n",
    "o = int((w-k+2*p)/s) + 1\n",
    "o - 1 = int((w-k+2*p)/s)\n",
    "and here we have a range:\n",
    "o - 1 = int((w-k+2*p_min)/s)\n",
    "o - 1 = int((w-k+2*p_max)/s)\n",
    "solving this:\n",
    "(o - 1) * s = min = w-k+2*p_min <= w-k+2*p <= w-k+2*p_max = max < o * s\n",
    "Note that inequality is not symmetric, the top bound is exclusive.\n",
    "Then:\n",
    "p_min = ((o-1)*s - w + k) / 2\n",
    "p_max = (o*s - w + k) / 2\n",
    "which can both be decimal.\n",
    "at this point we can just get the ceil of p_min and be happy:\n",
    "**$p = np.ceil(((o-1)*s - w + k) / 2)$**"
   ],
   "metadata": {
    "collapsed": false
   }
  },
  {
   "cell_type": "code",
   "execution_count": 22,
   "outputs": [],
   "source": [
    "def get_lowest_padding(w,k,s):\n",
    "    o = np.ceil(w/s)\n",
    "    p = (np.ceil((k - (w - (o-1)*s)) / 2)).astype(int)\n",
    "    return p"
   ],
   "metadata": {
    "collapsed": false
   }
  },
  {
   "cell_type": "code",
   "execution_count": 23,
   "outputs": [
    {
     "data": {
      "text/plain": "3"
     },
     "execution_count": 23,
     "metadata": {},
     "output_type": "execute_result"
    }
   ],
   "source": [
    "get_lowest_padding(90,15,10)"
   ],
   "metadata": {
    "collapsed": false
   }
  },
  {
   "cell_type": "markdown",
   "source": [
    "It is quite annoying that padding depends on the width of the input image (this is not always the case though), here is a re-write of the formula where width is defaulted:"
   ],
   "metadata": {
    "collapsed": false
   }
  },
  {
   "cell_type": "code",
   "execution_count": 47,
   "outputs": [],
   "source": [
    "def get_padding(kernel_size, stride, width=256):\n",
    "    \"\"\"\n",
    "    Padding that ensures the output_size of ceil(input_size/stride). Assuming square images:\n",
    "    \"\"\"\n",
    "    output_width = np.ceil(width / stride)\n",
    "    padding = int(np.ceil(((output_width-1) * stride - width + kernel_size) / 2))\n",
    "    return padding"
   ],
   "metadata": {
    "collapsed": false
   }
  },
  {
   "cell_type": "markdown",
   "source": [
    "## Padding visualizations"
   ],
   "metadata": {
    "collapsed": false
   }
  },
  {
   "cell_type": "markdown",
   "source": [
    "Let's plot padding for many image widths:"
   ],
   "metadata": {
    "collapsed": false
   }
  },
  {
   "cell_type": "code",
   "execution_count": 48,
   "outputs": [],
   "source": [
    "import nbimporter\n",
    "from Python.functools import partial, plot_function"
   ],
   "metadata": {
    "collapsed": false
   }
  },
  {
   "cell_type": "code",
   "execution_count": 49,
   "outputs": [
    {
     "data": {
      "text/plain": "<Figure size 300x300 with 1 Axes>",
      "image/png": "[encoded data removed]"
     },
     "metadata": {},
     "output_type": "display_data"
    }
   ],
   "source": [
    "partial_get_padding = partial(get_lowest_padding, k=5, s=2)\n",
    "x = np.arange(200, 300, 1)\n",
    "plot_function(partial_get_padding, x)"
   ],
   "metadata": {
    "collapsed": false
   }
  },
  {
   "cell_type": "code",
   "execution_count": 50,
   "outputs": [
    {
     "data": {
      "text/plain": "array([2])"
     },
     "execution_count": 50,
     "metadata": {},
     "output_type": "execute_result"
    }
   ],
   "source": [
    "np.unique(partial_get_padding(np.arange(200,300,1)))"
   ],
   "metadata": {
    "collapsed": false
   }
  },
  {
   "cell_type": "code",
   "execution_count": 51,
   "outputs": [
    {
     "data": {
      "text/plain": "<Figure size 300x300 with 1 Axes>",
      "image/png": "[encoded data removed]"
     },
     "metadata": {},
     "output_type": "display_data"
    }
   ],
   "source": [
    "partial_get_padding = partial(get_lowest_padding, k=3, s=1)\n",
    "x = np.arange(200, 300, 1)\n",
    "plot_function(partial_get_padding, x)"
   ],
   "metadata": {
    "collapsed": false
   }
  },
  {
   "cell_type": "markdown",
   "source": [
    "So this is funny, seems to be independent of the width. Let's look into math again:"
   ],
   "metadata": {
    "collapsed": false
   }
  },
  {
   "cell_type": "markdown",
   "source": [
    "o = can be even or odd\n",
    "p = (np.ceil((k - (1 or 2)) / 2))   # generaly speaking p = (np.ceil((k - (1 to s) / 2))\n",
    "p = (np.ceil((5 - (1 or 2)) / 2))\n",
    "p = (np.ceil((4 or 3)/ 2))\n",
    "p = 2"
   ],
   "metadata": {
    "collapsed": false
   }
  },
  {
   "cell_type": "markdown",
   "source": [
    "so that's the reason."
   ],
   "metadata": {
    "collapsed": false
   }
  },
  {
   "cell_type": "markdown",
   "source": [
    "We can also look into limits of p:"
   ],
   "metadata": {
    "collapsed": false
   }
  },
  {
   "cell_type": "markdown",
   "source": [
    "`o = np.ceil(w/s)`\n",
    "`p = (np.ceil(((o-1)*s - w + k) / 2))`\n",
    "note that p is maximized when `(o-1)*s - w` is highest, i.e. `w - (o-1)*s` is lowest, which is has lowest value of 1 (by definition of o it can't be 0):\n",
    "**np.ceil((k-s)/2) <= p <= np.ceil((k-1)/2)**"
   ],
   "metadata": {
    "collapsed": false
   }
  },
  {
   "cell_type": "code",
   "execution_count": 52,
   "outputs": [
    {
     "name": "stdout",
     "output_type": "stream",
     "text": [
      "3\n",
      "8\n"
     ]
    }
   ],
   "source": [
    "print(get_lowest_padding(90,16,10))  # np.ceil((k-s)/2) = (ceil((16-10)/2) = 3\n",
    "print(get_lowest_padding(91,16,10))   # np.ceil((k-1)/2) = ceil(15/2) = 8"
   ],
   "metadata": {
    "collapsed": false
   }
  },
  {
   "cell_type": "markdown",
   "source": [
    "Finally, for a special, but common case, w = s*o:"
   ],
   "metadata": {
    "collapsed": false
   }
  },
  {
   "cell_type": "markdown",
   "source": [
    "general equations:\n",
    "o = np.ceil(w/s)\n",
    "p = (np.ceil(((o-1)*s - w + k) / 2))\n",
    "\n",
    "then:\n",
    "p = (np.ceil((k-s) / 2))"
   ],
   "metadata": {
    "collapsed": false
   }
  },
  {
   "cell_type": "markdown",
   "source": [
    "so padding doesn't depend on the width in this case. **We will stick with this formula since it makes it simple not to worry about the width, so long our images are divisible by s**."
   ],
   "metadata": {
    "collapsed": false
   }
  },
  {
   "cell_type": "markdown",
   "source": [
    "## Conv2dTranspose"
   ],
   "metadata": {
    "collapsed": false
   }
  },
  {
   "cell_type": "markdown",
   "source": [
    "[`nn.ConvTranspose2d`](https://pytorch.org/docs/stable/generated/torch.nn.ConvTranspose2d.html) is used to upsample the input (for example in UNet). These have additional `output_padding` that fills only one-side (useful for those 'same' paddings). It is a non-symmetric padding of the output image that enables us to get an even size image.\n"
   ],
   "metadata": {
    "collapsed": false
   }
  }
 ],
 "metadata": {
  "kernelspec": {
   "display_name": "Python 3",
   "language": "python",
   "name": "python3"
  },
  "language_info": {
   "codemirror_mode": {
    "name": "ipython",
    "version": 2
   },
   "file_extension": ".py",
   "mimetype": "text/x-python",
   "name": "python",
   "nbconvert_exporter": "python",
   "pygments_lexer": "ipython2",
   "version": "2.7.6"
  }
 },
 "nbformat": 4,
 "nbformat_minor": 0
}
