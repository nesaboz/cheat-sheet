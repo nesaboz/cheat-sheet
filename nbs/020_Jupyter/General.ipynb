{
 "cells": [
  {
   "cell_type": "markdown",
   "metadata": {},
   "source": [
    "# General"
   ]
  },
  {
   "cell_type": "markdown",
   "metadata": {},
   "source": [
    "\n",
    "## Help\n",
    "To see parameters: `SHIFT + TAB`\n",
    "For help use `?` before or after the command.\n",
    "For autocompletion: `TAB + TAB`\n",
    "Merge cells, select cells then: `Shift + M` ``\n"
   ]
  },
  {
   "cell_type": "markdown",
   "source": [
    "# Markdown"
   ],
   "metadata": {
    "collapsed": false
   }
  },
  {
   "cell_type": "markdown",
   "source": [
    "For raw text use:\n",
    "```text\n",
    "```text\n",
    "```\n",
    "and close with\n",
    "```text\n",
    "<```> but without the <> (that's the only one text that can't be displayed I guess!)\n",
    "```\n",
    "\n",
    "\n",
    "To add some empy space in markdown one can use:\n",
    "~~~\n",
    "&nbsp;\n",
    "~~~\n",
    "\n",
    "To add a new line use `\\` at the end of a line.\n"
   ],
   "metadata": {
    "collapsed": false
   }
  },
  {
   "cell_type": "markdown",
   "source": [
    "\n",
    "## Magic commands"
   ],
   "metadata": {
    "collapsed": false
   }
  },
  {
   "cell_type": "markdown",
   "source": [
    "\n",
    "To autoreload edited python files (doesn't include class signatures changes, these you have to re-import):\n",
    "```jupyter\n",
    "%load_ext autoreload\n",
    "%autoreload 2\n",
    "```\n",
    "\n"
   ],
   "metadata": {
    "collapsed": false
   }
  },
  {
   "cell_type": "markdown",
   "source": [
    "# Links"
   ],
   "metadata": {
    "collapsed": false
   }
  },
  {
   "cell_type": "markdown",
   "source": [
    "Links are useful to jump between sections and files. Here are few examples:"
   ],
   "metadata": {
    "collapsed": false
   }
  },
  {
   "cell_type": "markdown",
   "source": [
    "To jump to upper section [help](#help)."
   ],
   "metadata": {
    "collapsed": false
   }
  },
  {
   "cell_type": "markdown",
   "source": [
    "To jump to some section in another file, for example [shutil](/python/fileio.html#shutil)."
   ],
   "metadata": {
    "collapsed": false
   }
  },
  {
   "cell_type": "markdown",
   "source": [
    "# nbimporter"
   ],
   "metadata": {
    "collapsed": false
   }
  },
  {
   "cell_type": "markdown",
   "source": [
    "To import methods from another jupyter notebook:"
   ],
   "metadata": {
    "collapsed": false
   }
  },
  {
   "cell_type": "code",
   "execution_count": null,
   "outputs": [],
   "source": [
    "!pip install nbimporter"
   ],
   "metadata": {
    "collapsed": false,
    "pycharm": {
     "is_executing": true
    }
   }
  },
  {
   "cell_type": "markdown",
   "source": [
    "For more see [here](https://stackoverflow.com/questions/50576404/importing-functions-from-another-jupyter-notebook)."
   ],
   "metadata": {
    "collapsed": false
   }
  },
  {
   "cell_type": "markdown",
   "source": [
    "# nbconvert"
   ],
   "metadata": {
    "collapsed": false
   }
  },
  {
   "cell_type": "markdown",
   "source": [
    "To convert jupyter notebook to PDF use `notebook-as-pdf` package, this will install bunch of packages like `nbconvert`, etc.\n",
    "From [here](https://towardsdatascience.com/jupyter-notebook-to-pdf-in-a-few-lines-3c48d68a7a63):\n",
    "\n",
    "```python\n",
    "pip install -U notebook-as-pdf\n",
    "pyppeteer-install\n",
    "pip uninstall pypdf2\n",
    "pip install \"pypdf2<3.0\"\n",
    "jupyter-nbconvert --to PDFviaHTML <jupyter_notebook_file.ipynb>\n",
    "```"
   ],
   "metadata": {
    "collapsed": false
   }
  },
  {
   "cell_type": "markdown",
   "source": [
    "Unfortunately only command line works, `Download as` option in a browser doesn't."
   ],
   "metadata": {
    "collapsed": false
   }
  }
 ],
 "metadata": {
  "kernelspec": {
   "display_name": "Python 3 (ipykernel)",
   "language": "python",
   "name": "python3"
  }
 },
 "nbformat": 4,
 "nbformat_minor": 4
}
