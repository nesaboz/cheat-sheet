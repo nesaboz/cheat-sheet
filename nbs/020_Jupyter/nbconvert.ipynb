{
 "cells": [
  {
   "cell_type": "markdown",
   "source": [
    "# nbconvert"
   ],
   "metadata": {
    "collapsed": false
   }
  },
  {
   "cell_type": "markdown",
   "source": [
    "To convert jupyter notebook to PDF use `notebook-as-pdf` package, this will install bunch of packages like `nbconvert`, etc.\n",
    "From [here](https://towardsdatascience.com/jupyter-notebook-to-pdf-in-a-few-lines-3c48d68a7a63):\n",
    "\n",
    "```python\n",
    "pip install -U notebook-as-pdf\n",
    "pyppeteer-install\n",
    "pip uninstall pypdf2\n",
    "pip install \"pypdf2<3.0\"\n",
    "jupyter-nbconvert --to PDFviaHTML main.ipynb\n",
    "```"
   ],
   "metadata": {
    "collapsed": false
   }
  },
  {
   "cell_type": "markdown",
   "source": [
    "Unfortunately only command line works, `Download as` option in a browser doesn't."
   ],
   "metadata": {
    "collapsed": false
   }
  }
 ],
 "metadata": {
  "kernelspec": {
   "display_name": "Python 3",
   "language": "python",
   "name": "python3"
  },
  "language_info": {
   "codemirror_mode": {
    "name": "ipython",
    "version": 2
   },
   "file_extension": ".py",
   "mimetype": "text/x-python",
   "name": "python",
   "nbconvert_exporter": "python",
   "pygments_lexer": "ipython2",
   "version": "2.7.6"
  }
 },
 "nbformat": 4,
 "nbformat_minor": 0
}
