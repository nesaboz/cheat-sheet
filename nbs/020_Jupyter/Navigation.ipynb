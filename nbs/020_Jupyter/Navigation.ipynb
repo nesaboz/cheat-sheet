{
 "cells": [
  {
   "cell_type": "markdown",
   "metadata": {},
   "source": [
    "# Navigation"
   ]
  },
  {
   "cell_type": "markdown",
   "metadata": {},
   "source": [
    "\n",
    "## Help\n",
    "To see parameters: `SHIFT + TAB`\n",
    "For help use `?` before or after the command.\n",
    "For autocompletion: `TAB + TAB`\n",
    "Merge cells, select cells then: `Shift + M` ``\n"
   ]
  },
  {
   "cell_type": "markdown",
   "source": [
    "# Markdown"
   ],
   "metadata": {
    "collapsed": false
   }
  },
  {
   "cell_type": "markdown",
   "source": [
    "For raw text use:\n",
    "```text\n",
    "```text\n",
    "```\n",
    "and close with\n",
    "```text\n",
    "<```> but without the <> (that's the only one text that can't be displayed I guess!)\n",
    "```\n",
    "\n",
    "\n",
    "To add some empy space in markdown one can use:\n",
    "~~~\n",
    "&nbsp;\n",
    "~~~\n",
    "\n",
    "To add a new line use `\\` at the end of a line.\n"
   ],
   "metadata": {
    "collapsed": false
   }
  },
  {
   "cell_type": "markdown",
   "source": [
    "\n",
    "## Magic commands"
   ],
   "metadata": {
    "collapsed": false
   }
  },
  {
   "cell_type": "markdown",
   "source": [
    "\n",
    "To autoreload edited python files (doesn't include class signatures changes, these you have to re-import):\n",
    "```jupyter\n",
    "%load_ext autoreload\n",
    "%autoreload 2\n",
    "```\n",
    "\n"
   ],
   "metadata": {
    "collapsed": false
   }
  },
  {
   "cell_type": "markdown",
   "source": [
    "# Links"
   ],
   "metadata": {
    "collapsed": false
   }
  },
  {
   "cell_type": "markdown",
   "source": [
    "Links are useful to jump between sections and files. Here are few examples:"
   ],
   "metadata": {
    "collapsed": false
   }
  },
  {
   "cell_type": "markdown",
   "source": [
    "To jump to upper section [help](#help)."
   ],
   "metadata": {
    "collapsed": false
   }
  },
  {
   "cell_type": "markdown",
   "source": [
    "To jump to some section in another file, for example [shutil](/python/fileio.html#shutil)."
   ],
   "metadata": {
    "collapsed": false
   }
  },
  {
   "cell_type": "markdown",
   "source": [
    "# nbimporter"
   ],
   "metadata": {
    "collapsed": false
   }
  },
  {
   "cell_type": "markdown",
   "source": [
    "To import methods from another jupyter notebook:"
   ],
   "metadata": {
    "collapsed": false
   }
  },
  {
   "cell_type": "code",
   "execution_count": null,
   "outputs": [],
   "source": [
    "!pip install nbimporter"
   ],
   "metadata": {
    "collapsed": false,
    "pycharm": {
     "is_executing": true
    }
   }
  },
  {
   "cell_type": "code",
   "execution_count": null,
   "outputs": [],
   "source": [
    "import nbimporter\n",
    "from ... import ..."
   ],
   "metadata": {
    "collapsed": false,
    "pycharm": {
     "is_executing": true
    }
   }
  },
  {
   "cell_type": "markdown",
   "source": [
    "For more see [here](https://stackoverflow.com/questions/50576404/importing-functions-from-another-jupyter-notebook)."
   ],
   "metadata": {
    "collapsed": false
   }
  }
 ],
 "metadata": {
  "kernelspec": {
   "display_name": "Python 3 (ipykernel)",
   "language": "python",
   "name": "python3"
  }
 },
 "nbformat": 4,
 "nbformat_minor": 4
}
