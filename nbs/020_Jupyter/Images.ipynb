{
 "cells": [
  {
   "cell_type": "markdown",
   "metadata": {},
   "source": [
    "# Images"
   ]
  },
  {
   "cell_type": "markdown",
   "metadata": {},
   "source": [
    "\n",
    "To show images in markdown cells:\n",
    "```jupyter\n",
    "![](path to the image)\n",
    "```\n",
    "for example:\n",
    "```jupyter\n",
    "![](assets/example.png)\n",
    "```\n",
    "will produce:\n",
    "\n",
    "![](assets/example.png)\n",
    "\n",
    "One can also use HTML to show images (`src`) with lot's of flexibility: \n",
    "- to change the width add `width` (as string)\n",
    "- for reference add `id`\n",
    "```jupyter\n",
    "<img width=\"500\" caption=\"Session_rate\" src=\"images/session_rate.jpg\" id=\"figure_id\"/>\n",
    "```\n",
    "\n",
    "then refer to the figure as: \n",
    "```text\n",
    "[name to show](#figure_id)\n",
    "```\n",
    " \n",
    "also can refer to URL images: (for example in Google Colab we have to replace the reference by it's github link):\n",
    "```\n",
    "<img width=\"500\" src=\"https://raw.githubusercontent.com/nesaboz/pytorched/8c41b15364234c31af4f6222b2251954131b4a94/nbs/images/transfer_learning_layer_replacement.jpg\"/>\n",
    "```\n",
    "\n",
    "<img width=\"500\" src=\"https://raw.githubusercontent.com/nesaboz/pytorched/8c41b15364234c31af4f6222b2251954131b4a94/nbs/images/transfer_learning_layer_replacement.jpg\"/>\n",
    "\n",
    "See this [great markdown guide](https://medium.com/analytics-vidhya/the-ultimate-markdown-guide-for-jupyter-notebook-d5e5abf728fd) for more.\n",
    "\n",
    "\n"
   ]
  },
  {
   "cell_type": "code",
   "execution_count": null,
   "outputs": [],
   "source": [],
   "metadata": {
    "collapsed": false
   }
  }
 ],
 "metadata": {
  "kernelspec": {
   "display_name": "Python 3 (ipykernel)",
   "language": "python",
   "name": "python3"
  }
 },
 "nbformat": 4,
 "nbformat_minor": 4
}
