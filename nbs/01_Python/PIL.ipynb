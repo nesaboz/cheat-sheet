{
 "cells": [
  {
   "cell_type": "markdown",
   "metadata": {},
   "source": [
    "# PIL"
   ]
  },
  {
   "cell_type": "markdown",
   "metadata": {},
   "source": [
    "\n",
    "```python\n",
    "from PIL import Image\n",
    "im = Image.open(\"some path\")\n",
    "im.show()\n",
    "```\n",
    "\n",
    "In jupyter one can use only:\n",
    "```jupyter\n",
    "im   # or display(im)\n",
    "```\n",
    "\n",
    "To create new image:\n",
    "```python\n",
    "width, height = 256, 256\n",
    "mask = Image.new('L', (width, height), 0)\n",
    "```\n",
    "\n",
    "Example to draw a polygon:\n",
    "```python\n",
    "from PIL import ImageDraw\n",
    "polygon = [(4, 1), (1, 54), (1, 222), (13, 1)]\n",
    "ImageDraw.Draw(mask).polygon(polygon, outline=255, fill=255)\n",
    "```\n",
    "\n",
    "To load image from png, show bands (i.e. channels):\n",
    "```python\n",
    "im = Image.open('example.png')\n",
    "print(im.getbands())\n",
    "im.getchannel('R')\n",
    "```\n",
    "\n",
    "To convert to RGB (from RGBA for example):\n",
    "```python\n",
    "im_rgb = im.convert('RGB')\n",
    "im_gray = im.convert('L')\n",
    "```\n",
    "\n",
    "To convert to tensor:\n",
    "```python\n",
    "from torchvision.transforms import ToTensor\n",
    "tensorizer = ToTensor()\n",
    "im_tensor = tensorizer(im)\n",
    "print(im_tensor.shape)\n",
    "im_tensor[:, :3, :3]\n",
    "```\n"
   ]
  }
 ],
 "metadata": {
  "kernelspec": {
   "display_name": "Python 3 (ipykernel)",
   "language": "python",
   "name": "python3"
  }
 },
 "nbformat": 4,
 "nbformat_minor": 4
}
