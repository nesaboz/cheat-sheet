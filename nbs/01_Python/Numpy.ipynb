{
 "cells": [
  {
   "cell_type": "markdown",
   "metadata": {},
   "source": [
    "# Numpy"
   ]
  },
  {
   "cell_type": "markdown",
   "metadata": {},
   "source": [
    "```python\n",
    "import numpy as np\n",
    "np.random.seed(42)\n",
    "a = np.random.randn(1,10)\n",
    "print(a)\n",
    "print(a.max())\n",
    "print(a.dtype)\n",
    "a = a.astype(np.uint8)\n",
    "print(a)\n",
    "print(a.max())\n",
    "print(a.dtype)\n",
    "print(a.shape)\n",
    "a = a.squeeze()\n",
    "print(a.shape)\n",
    "\n",
    "```\n",
    "\n",
    "To scale tensor from 0, 255, convert to uint8\n",
    "```python\n",
    "b = (np.array(mask_tensor) / np.array(mask_tensor).max() * 255).astype(np.uint8).squeeze()\n",
    "b.max()\n",
    "```\n",
    "\n",
    "\n",
    "```python\n",
    "b = (np.array(mask_tensor) / np.array(mask_tensor).max()).astype(np.float32).squeeze()\n",
    "b.max()\n",
    "```\n",
    " "
   ]
  }
 ],
 "metadata": {
  "kernelspec": {
   "display_name": "Python 3 (ipykernel)",
   "language": "python",
   "name": "python3"
  }
 },
 "nbformat": 4,
 "nbformat_minor": 4
}
