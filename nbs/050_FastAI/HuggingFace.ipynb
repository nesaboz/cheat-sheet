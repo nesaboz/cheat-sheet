{
 "cells": [
  {
   "cell_type": "markdown",
   "metadata": {},
   "source": [
    "# HuggingFace"
   ]
  },
  {
   "cell_type": "markdown",
   "metadata": {},
   "source": [
    "Couldn't upload large files without git-lfs (lfs stands for [large file storage](https://stackoverflow.com/questions/67395259/git-clone-git-lfs-filter-process-git-lfs-command-not-found))\n",
    "\n",
    "```zsh\n",
    "brew install git-lfs\n",
    "git lfs install\n",
    "```\n",
    "\n",
    "Hugging space doesn't allow binary files in repo, so the file extensions needs to be added to `.gitattributes`.\n",
    "\n",
    "We must have `requirements.txt` file in the hugging space repo:\n",
    "```text\n",
    "\"If you need other Python packages to run your app, add them to a requirements.txt file at the root of the repository. The Spaces runtime engine will create a custom environment on-the-fly.\"\n",
    "```\n",
    "\n"
   ]
  }
 ],
 "metadata": {
  "kernelspec": {
   "display_name": "Python 3 (ipykernel)",
   "language": "python",
   "name": "python3"
  }
 },
 "nbformat": 4,
 "nbformat_minor": 4
}
