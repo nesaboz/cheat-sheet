{
 "cells": [
  {
   "cell_type": "markdown",
   "metadata": {},
   "source": [
    "# Python"
   ]
  },
  {
   "cell_type": "markdown",
   "metadata": {},
   "source": [
    "# PyTest"
   ]
  },
  {
   "cell_type": "markdown",
   "metadata": {},
   "source": [
    "\n",
    "```\n",
    "pip install pytest\n",
    "```\n",
    "\n",
    "You will need `pytest.ini` in the root:\n",
    "```\n",
    "[pytest]\n",
    "pythonpath = ''\n",
    "```\n",
    "`pythonpath` adds a path to `sys.path` relative to the root so the imports in test files work.\n",
    "\n",
    "To discover and run all tests run in terminal:\n",
    "```zsh\n",
    "pytest\n",
    "```\n",
    "\n",
    "To run only specific tests:\n",
    "```zsh\n",
    "pytest filename.py\n",
    "```\n",
    "\n",
    "[docs](https://docs.pytest.org/en/7.1.x/example/pythoncollection.html)"
   ]
  },
  {
   "cell_type": "markdown",
   "metadata": {},
   "source": [
    "# Regex"
   ]
  },
  {
   "cell_type": "markdown",
   "metadata": {},
   "source": [
    "Suppose we need to extract `row` and `col` from a string:\n",
    "\n",
    "```python\n",
    "import re\n",
    "some_string = 'R1C2_row62_col24.png'\n",
    "m = re.match(r\".*row(\\d+)_col(\\d+).*.png\", some_string)\n",
    "row = int(m.group(1))\n",
    "col = int(m.group(2))\n",
    "assert row == 62\n",
    "assert col == 24\n",
    "```\n",
    "\n",
    "Test here [https://regex101.com/](https://regex101.com/)\n",
    "\n",
    "| Character | Action |\n",
    "| - | - |\n",
    "|  `.` | any character |\n",
    "| `\\d` | only numbers (if we need decimal point user a backslash (\\.) |\n",
    "| `?`  | Zero or one character | \n",
    "| `+`  | One or many |\n",
    "| `*`  | Any character count |\n",
    "\n",
    "Good [tutorial](https://medium.com/factory-mind/regex-tutorial-a-simple-cheatsheet-by-examples-649dc1c3f285)."
   ]
  },
  {
   "cell_type": "markdown",
   "metadata": {},
   "source": [
    "# fileIO"
   ]
  },
  {
   "cell_type": "markdown",
   "metadata": {},
   "source": [
    "## JSON\n",
    "\n",
    "To dump data to json file:\n",
    "```python\n",
    "output_path = <some_dir> / \"some_file.json\"  \n",
    "params = {'a': 1, 'b': 2}\n",
    "with output_path.open('w') as f:  \n",
    "    json.dump(params, f, indent=4)\n",
    "```\n",
    "\n",
    "to load from json file:\n",
    "```python\n",
    "with input_path.open() as f:  \n",
    "    result = json.load(f)\n",
    "```\n",
    "\n",
    "\n",
    "## shutil\n",
    "\n",
    "```python\n",
    "shutil.copy(src_path, dst_path)\n",
    "```\n"
   ]
  },
  {
   "cell_type": "markdown",
   "metadata": {},
   "source": [
    "# Pathlib"
   ]
  },
  {
   "cell_type": "markdown",
   "metadata": {},
   "source": [
    "\n",
    "```python\n",
    "from pathlib import Path\n",
    "assert Path(<some_file>).is_file()\n",
    "```\n",
    "\n",
    "\n",
    "## Platform\n",
    "\n",
    "```\n",
    "import platform \n",
    "if 'macOS' in platform.platform():\n",
    "\tprint('This is Mac')\n",
    "```\n"
   ]
  },
  {
   "cell_type": "markdown",
   "metadata": {},
   "source": [
    "# PIL"
   ]
  },
  {
   "cell_type": "markdown",
   "metadata": {},
   "source": [
    "\n",
    "```python\n",
    "from PIL import Image\n",
    "im = Image.open(\"some path\")\n",
    "im.show()\n",
    "```\n",
    "\n",
    "In jupyter one can use only:\n",
    "```jupyter\n",
    "im   # or display(im)\n",
    "```\n",
    "\n",
    "To create new image:\n",
    "```python\n",
    "width, height = 256, 256\n",
    "mask = Image.new('L', (width, height), 0)\n",
    "```\n",
    "\n",
    "Example to draw a polygon:\n",
    "```python\n",
    "from PIL import ImageDraw\n",
    "polygon = [(4, 1), (1, 54), (1, 222), (13, 1)]\n",
    "ImageDraw.Draw(mask).polygon(polygon, outline=255, fill=255)\n",
    "```\n",
    "\n",
    "To load image from png, show bands (i.e. channels):\n",
    "```python\n",
    "im = Image.open('example.png')\n",
    "print(im.getbands())\n",
    "im.getchannel('R')\n",
    "```\n",
    "\n",
    "to convert to tensor:\n",
    "```python\n",
    "from torchvision.transforms import ToTensor\n",
    "tensorizer = ToTensor()\n",
    "im_tensor = tensorizer(im)\n",
    "print(im_tensor.shape)\n",
    "im_tensor[:, :3, :3]\n",
    "```\n"
   ]
  }
 ],
 "metadata": {
  "kernelspec": {
   "display_name": "Python 3 (ipykernel)",
   "language": "python",
   "name": "python3"
  }
 },
 "nbformat": 4,
 "nbformat_minor": 4
}