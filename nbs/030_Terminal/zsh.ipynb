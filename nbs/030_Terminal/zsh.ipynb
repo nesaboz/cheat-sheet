{
 "cells": [
  {
   "cell_type": "markdown",
   "metadata": {},
   "source": [
    "# zsh"
   ]
  },
  {
   "cell_type": "markdown",
   "metadata": {},
   "source": [
    "There are many shells one can use, Mac default is `zsh` (located at `/bin/zsh`). I set up PyCharm to use it as well in the `Preferences\\Tools\\Terminal\\Shell Path`\n",
    "\n",
    "Bash/zsh comment is the same as python: `#`\n",
    "\n",
    "```zsh\n",
    "# To open Pycharm/VSCode from terminal:\n",
    "open -na \"PyCharm.app\" .\n",
    "open -na \"Visual Studio Code.app\" .\n",
    "# To open a finder from terminal:\n",
    "open .\n",
    "```\n",
    "\n",
    "To open terminal from folder I added a shortcut:\n",
    "`Control + Alt + Shift + T`\n",
    "\n",
    "To see hidden files on Mac in finder: `Command + Shift + .`"
   ]
  },
  {
   "cell_type": "markdown",
   "source": [
    "# Variable"
   ],
   "metadata": {
    "collapsed": false
   }
  },
  {
   "cell_type": "markdown",
   "source": [
    "```zsh\n",
    "variable=<some_value>  # make sure there are no spaces around =\n",
    "variable=solar\n",
    "```\n"
   ],
   "metadata": {
    "collapsed": false
   }
  },
  {
   "cell_type": "markdown",
   "source": [
    "To replace chars inside a string:"
   ],
   "metadata": {
    "collapsed": false
   }
  },
  {
   "cell_type": "markdown",
   "source": [
    "```bash\n",
    "repo_name=\"home/solar\"\n",
    "echo $repo_name\n",
    "repo_name=${repo_name//[\\/l]/_}\n",
    "echo $repo_name\n",
    "```"
   ],
   "metadata": {
    "collapsed": false
   }
  },
  {
   "cell_type": "markdown",
   "source": [
    "```bash\n",
    "\n",
    "```"
   ],
   "metadata": {
    "collapsed": false
   }
  },
  {
   "cell_type": "markdown",
   "metadata": {},
   "source": [
    "\n",
    "## ls command\n",
    "\n",
    "To [count files](https://devconnected.com/how-to-count-files-in-directory-on-linux/) in a folder from terminal:\n",
    "```zsh\n",
    "ls /etc | wc -l\n",
    "```\n",
    "recursively:\n",
    "```\n",
    "find <directory> -type f | wc -l\n",
    "```\n",
    "\n",
    "for example:\n",
    "```\n",
    "ls '/Users/nenad.bozinovic/work/Frame/elasticity_logs' | head -4\n",
    "```\n",
    "to see file sizes:\n",
    "```zsh\n",
    "ls -l\n",
    "ls -l --block-size=M\n",
    "```"
   ]
  },
  {
   "cell_type": "markdown",
   "source": [
    "To create/delete directory:"
   ],
   "metadata": {
    "collapsed": false
   }
  },
  {
   "cell_type": "markdown",
   "source": [
    "```zsh\n",
    "mkdir\n",
    "rm -r  # delete non empty directory\n",
    "rmdir # to delete empty directory\n",
    "rm -d  # to delete empty directory\n",
    "\n",
    "mv source dst # to move and/or rename directory\n",
    "\n",
    "\n",
    "```"
   ],
   "metadata": {
    "collapsed": false
   }
  },
  {
   "cell_type": "markdown",
   "metadata": {},
   "source": [
    "## Zip/Unzip\n",
    "\n",
    "To [zip/unzip gz](https://www.cyberciti.biz/faq/unpacking-or-uncompressing-gz-files/):\n",
    "\n",
    "Install gnu-tar if seeing warning with the `tar`, then use `gtar`:\n",
    "```zsh\n",
    "brew install gnu-tar\n",
    "```\n",
    "\n",
    "\n",
    "To zip:\n",
    "```zsh\n",
    "gtar -zcvf myfolder.tar.gz myfolder\n",
    "gzip filename  # zip it back\n",
    "gzip -k filename  # to zip it and keep original\n",
    "```\n",
    "\n",
    "to see the content of a zipped file:\n",
    "\n",
    "```zsh\n",
    "gtar -tf myfolder.tar.gz\n",
    "```\n",
    "\n",
    "to [unzip](https://phoenixnap.com/kb/extract-tar-gz-files-linux-command-line):\n",
    "\n",
    "```zsh\n",
    "tar -xf labeled_data.tar.gz\n",
    "tar -xf labeled_data.tar.gz -C /home/user/destination\n",
    "```\n"
   ]
  },
  {
   "cell_type": "markdown",
   "metadata": {},
   "source": [
    "\n",
    "## Download\n",
    "\n",
    "To download a file from URL:\n",
    "```zsh\n",
    "!curl -OL <URL>\n",
    "```"
   ]
  },
  {
   "cell_type": "markdown",
   "metadata": {},
   "source": [
    "## Paths\n",
    "\n",
    "Print path:\n",
    "\n",
    "```zsh\n",
    "echo \"${PATH//:/$'\\n'}\"\n",
    "```\n",
    "\n",
    "[To add folder to PATH](https://www.cyberciti.biz/faq/appleosx-bash-unix-change-set-path-environment-variable/)"
   ]
  },
  {
   "cell_type": "markdown",
   "metadata": {},
   "source": [
    "## Homebrew\n",
    "\n",
    "[Homebrew](https://brew.sh/) is a package manager for macOS, it might have some unique packages that pip doesn't have, to install `wget` for example:\n",
    "\n",
    "```zsh\n",
    "brew install wget\n",
    "wget https://your.link.png\n",
    "```"
   ]
  },
  {
   "cell_type": "markdown",
   "metadata": {},
   "source": [
    "## pip\n",
    "\n",
    "To install package:\n",
    "```zsh\n",
    "pip install torch torchvision tensorboard\n",
    "```\n",
    "\n",
    "When using `[]` with `pip` it is important to use `\"\"` to avoid shell parsing for example:\n",
    "```zsh\n",
    "pip install \"mpl_interactions[jupyter]\"\n",
    "```\n",
    "\n",
    "To see version of the package installed:\n",
    "```zsh\n",
    "pip show torch\n",
    "```"
   ]
  },
  {
   "cell_type": "markdown",
   "metadata": {},
   "source": [
    "## vim\n",
    "\n",
    "\n",
    "| Command | Explanation |\n",
    "| -| - | \n",
    "| `i`  |      insert mode |\n",
    "| `:w`  |   Saves the file you are working on | \n",
    "| `:w [filename]` | Allows you to save your file with the name you've defined |\n",
    "| `:wq` | Save your file and close Vim |\n",
    "| `:q!` | Quit without first saving the file you were working on |"
   ]
  },
  {
   "cell_type": "markdown",
   "metadata": {},
   "source": [
    "## Conda\n",
    "\n",
    "```\n",
    "yes | conda create -n $repo_name python=$python_ver  # notice there is no keyword env\n",
    "conda env list\n",
    "conda env remove -n ENV_NAME\n",
    "conda env export > env.yml\n",
    "conda env create -n ENVNAME --file ENV.yml\n",
    "```\n",
    "```zsh\n",
    "conda list torch\n",
    "```"
   ]
  },
  {
   "cell_type": "markdown",
   "metadata": {},
   "source": [
    "## if statement in zsh\n",
    "\n",
    "```zsh\n",
    "if ! [[ -n $repo_name ]] || ! [[ -n $python_ver ]]; then  \n",
    "  echo \"you didn't enter repo name and/or python version\"  \n",
    "  exit 0  \n",
    "fi\n",
    "```"
   ]
  },
  {
   "cell_type": "markdown",
   "metadata": {},
   "source": [
    "# Get IP address"
   ]
  },
  {
   "cell_type": "markdown",
   "metadata": {},
   "source": [
    "To be able to use `ip`:"
   ]
  },
  {
   "cell_type": "markdown",
   "metadata": {},
   "source": [
    "```zsh\n",
    "brew install iproute2mac\n",
    "```"
   ]
  },
  {
   "cell_type": "markdown",
   "metadata": {},
   "source": [
    "Before you generate ssh key pair check if you have one:"
   ]
  },
  {
   "cell_type": "markdown",
   "metadata": {},
   "source": [
    "```zsh\n",
    "cat ~/.ssh/id_rsa.pub\n",
    "```"
   ]
  },
  {
   "cell_type": "markdown",
   "metadata": {},
   "source": [
    "# Generate ssh key pair"
   ]
  },
  {
   "cell_type": "markdown",
   "metadata": {},
   "source": [
    "To generate ssh key pair:"
   ]
  },
  {
   "cell_type": "markdown",
   "metadata": {},
   "source": [
    "```zsh\n",
    "ssh-keygen -t rsa\n",
    "```"
   ]
  },
  {
   "cell_type": "markdown",
   "metadata": {},
   "source": [
    "this will ask you to generate a new key in a specified file. Yuo should see `id_rsa` and `id_rsa.pub` files that relate to private and public keys."
   ]
  },
  {
   "cell_type": "markdown",
   "metadata": {},
   "source": [
    "To copy the key, replace the user and server with your username and the server address you wish to use the key authentication on (use commands `hostname` and `whoami` for hostname and username):"
   ]
  },
  {
   "cell_type": "markdown",
   "metadata": {},
   "source": [
    "```zsh\n",
    "ssh-copy-id -i ~/.ssh/id_rsa.pub user@server\n",
    "```"
   ]
  },
  {
   "cell_type": "markdown",
   "metadata": {},
   "source": [
    "# [List of basic linux commands](https://www.hostinger.com/tutorials/linux-commands)"
   ]
  },
  {
   "cell_type": "markdown",
   "metadata": {},
   "source": [
    "# Python version"
   ]
  },
  {
   "cell_type": "markdown",
   "metadata": {},
   "source": [
    "```zsh\n",
    "which python\n",
    "```"
   ]
  },
  {
   "cell_type": "markdown",
   "metadata": {},
   "source": [
    "Gives for example: `/opt/conda/bin/python`"
   ]
  },
  {
   "cell_type": "markdown",
   "metadata": {},
   "source": [
    "# Copy files"
   ]
  },
  {
   "cell_type": "markdown",
   "metadata": {},
   "source": [
    "Use [scp](https://linuxize.com/post/how-to-use-scp-command-to-securely-transfer-files/). For example:"
   ]
  },
  {
   "cell_type": "markdown",
   "source": [
    "```zsh\n",
    "scp test.json root@122.186.155.114:/home/solar\n",
    "```"
   ],
   "metadata": {
    "collapsed": false
   },
   "outputs": [
    {
     "ename": "SyntaxError",
     "evalue": "invalid syntax (2111268087.py, line 1)",
     "output_type": "error",
     "traceback": [
      "\u001B[0;36m  Cell \u001B[0;32mIn[1], line 1\u001B[0;36m\u001B[0m\n\u001B[0;31m    scp test.json root@122.186.155.114:/home/solar\u001B[0m\n\u001B[0m        ^\u001B[0m\n\u001B[0;31mSyntaxError\u001B[0m\u001B[0;31m:\u001B[0m invalid syntax\n"
     ]
    }
   ],
   "execution_count": 1
  },
  {
   "cell_type": "markdown",
   "source": [
    "# Username"
   ],
   "metadata": {
    "collapsed": false
   }
  },
  {
   "cell_type": "markdown",
   "source": [
    "```zsh\n",
    "useradd username\n",
    "passwd username\n",
    "login username\n",
    "whoami\n",
    "```"
   ],
   "metadata": {
    "collapsed": false
   }
  },
  {
   "cell_type": "markdown",
   "source": [
    "# IP Address"
   ],
   "metadata": {
    "collapsed": false
   }
  },
  {
   "cell_type": "markdown",
   "source": [
    "To get IP address on Linux, use curl [this](https://www.howtogeek.com/839170/how-to-get-your-public-ip-in-a-linux-bash-script/#:~:text=You%20can%20get%20your%20external,IP%20from%20a%20DNS%20server.):\n",
    "\n",
    "```zsh\n",
    "apt install curl\n",
    "curl ifconfig.me\n",
    "```"
   ],
   "metadata": {
    "collapsed": false
   }
  },
  {
   "cell_type": "markdown",
   "source": [
    "# Get system, host, and user names"
   ],
   "metadata": {
    "collapsed": false
   }
  },
  {
   "cell_type": "markdown",
   "source": [
    "```zsh\n",
    "uname -mrs\n",
    "hostname\n",
    "whoami\n",
    "```"
   ],
   "metadata": {
    "collapsed": false
   }
  },
  {
   "cell_type": "markdown",
   "source": [
    "To get a hostname in Jupyter:"
   ],
   "metadata": {
    "collapsed": false
   }
  },
  {
   "cell_type": "code",
   "execution_count": 2,
   "outputs": [
    {
     "data": {
      "text/plain": "'Jupiter-2.local'"
     },
     "execution_count": 2,
     "metadata": {},
     "output_type": "execute_result"
    }
   ],
   "source": [
    "hn=!hostname\n",
    "hn[0]"
   ],
   "metadata": {
    "collapsed": false
   }
  },
  {
   "cell_type": "markdown",
   "source": [
    "# Search"
   ],
   "metadata": {
    "collapsed": false
   }
  },
  {
   "cell_type": "markdown",
   "source": [
    "To search for a specific file:\n",
    "```zsh\n",
    "find . -name \"pera.exe\"\n",
    "```\n",
    "where . is current directory."
   ],
   "metadata": {
    "collapsed": false
   }
  }
 ],
 "metadata": {
  "kernelspec": {
   "display_name": "Python 3 (ipykernel)",
   "language": "python",
   "name": "python3"
  }
 },
 "nbformat": 4,
 "nbformat_minor": 4
}
